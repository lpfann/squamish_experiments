{
 "cells": [
  {
   "cell_type": "code",
   "execution_count": 1,
   "metadata": {},
   "outputs": [],
   "source": [
    "import numpy as np"
   ]
  },
  {
   "cell_type": "code",
   "execution_count": 2,
   "metadata": {},
   "outputs": [],
   "source": [
    "import matplotlib.pyplot as plt\n",
    "%matplotlib inline"
   ]
  },
  {
   "cell_type": "code",
   "execution_count": 3,
   "metadata": {},
   "outputs": [],
   "source": [
    "import sklearn as sk"
   ]
  },
  {
   "cell_type": "code",
   "execution_count": 4,
   "metadata": {},
   "outputs": [],
   "source": [
    "import sklearn.datasets as data"
   ]
  },
  {
   "cell_type": "code",
   "execution_count": 5,
   "metadata": {},
   "outputs": [],
   "source": [
    "state = np.random.RandomState(123)\n",
    "\n"
   ]
  },
  {
   "cell_type": "code",
   "execution_count": 35,
   "metadata": {},
   "outputs": [],
   "source": [
    "X,y = data.make_classification(n_samples=500, n_features=7, n_informative=5,\n",
    "                         n_redundant=0, n_repeated=0, n_classes=2,\n",
    "                         n_clusters_per_class=2, weights=None,\n",
    "                         flip_y=0.0, class_sep=0.5, hypercube=True,\n",
    "                         shift=0.0, scale=1.0, shuffle=False,\n",
    "                         random_state=state)\n",
    "\n",
    "#plt.scatter(*X[:,:2].T,c=y)"
   ]
  },
  {
   "cell_type": "code",
   "execution_count": 36,
   "metadata": {},
   "outputs": [],
   "source": [
    "import squamish.main\n",
    "\n",
    "m = squamish.main.Main()\n",
    "\n"
   ]
  },
  {
   "cell_type": "code",
   "execution_count": 37,
   "metadata": {},
   "outputs": [
    {
     "name": "stderr",
     "output_type": "stream",
     "text": [
      "DEBUG:squamish.main:RF score 0.754\n",
      "DEBUG:squamish.main:importances [3673.06041871  868.66053022 2416.3777376  2344.47541097 3243.49406961\n",
      "   38.28478014   44.64228937]\n"
     ]
    },
    {
     "name": "stdout",
     "output_type": "stream",
     "text": [
      "Finished loading model, total used 100 iterations\n",
      "Finished loading model, total used 100 iterations\n"
     ]
    },
    {
     "name": "stderr",
     "output_type": "stream",
     "text": [
      "DEBUG:squamish.main:Features from Boruta: [0 3 4]\n",
      "DEBUG:squamish.main:Features from RF: [0 1 2 3 4]\n",
      "INFO:squamish.main:Relevance Classes: [2 2 2 2 2 0 0]\n"
     ]
    }
   ],
   "source": [
    "m.fit(X,y)"
   ]
  },
  {
   "cell_type": "code",
   "execution_count": 46,
   "metadata": {},
   "outputs": [],
   "source": [
    "import fri\n",
    "\n",
    "f = fri.FRI(fri.ProblemName.CLASSIFICATION,n_probe_features=50,verbose=True)"
   ]
  },
  {
   "cell_type": "code",
   "execution_count": 47,
   "metadata": {},
   "outputs": [
    {
     "name": "stdout",
     "output_type": "stream",
     "text": [
      "Fitting 3 folds for each of 10 candidates, totalling 30 fits\n"
     ]
    },
    {
     "name": "stderr",
     "output_type": "stream",
     "text": [
      "[Parallel(n_jobs=1)]: Using backend SequentialBackend with 1 concurrent workers.\n",
      "[Parallel(n_jobs=1)]: Done  30 out of  30 | elapsed:    0.2s finished\n",
      "[Parallel(n_jobs=1)]: Using backend SequentialBackend with 1 concurrent workers.\n"
     ]
    },
    {
     "name": "stdout",
     "output_type": "stream",
     "text": [
      "******************** Best found baseline model ********************\n",
      "Classification_SVM(C=0.2493177448632842)\n",
      "score:  0.6406185376587603\n",
      "'loss: 397.20148899092817'\n",
      "'w_l1: 1.4589212666928018'\n",
      "'w: shape (7,)'\n",
      "'b: shape ()'\n",
      "'slack: shape (500,)'\n",
      "******************************\n"
     ]
    },
    {
     "name": "stderr",
     "output_type": "stream",
     "text": [
      "[Parallel(n_jobs=1)]: Done  21 out of  21 | elapsed:    0.2s finished\n",
      "[Parallel(n_jobs=1)]: Using backend SequentialBackend with 1 concurrent workers.\n",
      "[Parallel(n_jobs=1)]: Done 100 out of 100 | elapsed:    1.3s finished\n",
      "[Parallel(n_jobs=1)]: Using backend SequentialBackend with 1 concurrent workers.\n",
      "[Parallel(n_jobs=1)]: Done  50 out of  50 | elapsed:    0.6s finished\n",
      "INFO:root:**** Feature Selection ****\n",
      "INFO:root:Lower Probe Statistic\n",
      "INFO:root:ProbeStatistic(lower_threshold=-0.04569093318920576, upper_threshold=0.05364362378102897, n_probes=32)\n",
      "INFO:root:Upper Probe Statistic\n",
      "INFO:root:ProbeStatistic(lower_threshold=-0.2864231209752969, upper_threshold=0.5558556289859953, n_probes=23)\n"
     ]
    },
    {
     "data": {
      "text/plain": [
       "FRI(loss_slack=0.001, n_jobs=1, n_param_search=10, n_probe_features=50,\n",
       "    normalize=True,\n",
       "    problemName=<ProblemName.CLASSIFICATION: [<class 'fri.model.classification.Classification'>, <ProblemName.CLASSIFICATION: 1>]>,\n",
       "    random_state=RandomState(MT19937) at 0x1BE65FB9BF8, verbose=True,\n",
       "    w_l1_slack=0.001)"
      ]
     },
     "execution_count": 47,
     "metadata": {},
     "output_type": "execute_result"
    }
   ],
   "source": [
    "f.fit(X,y)"
   ]
  },
  {
   "cell_type": "code",
   "execution_count": 48,
   "metadata": {},
   "outputs": [
    {
     "data": {
      "text/plain": [
       "array([[0.00176183, 0.08391392],\n",
       "       [0.03193019, 0.1010147 ],\n",
       "       [0.04986097, 0.114111  ],\n",
       "       [0.35896959, 0.43138014],\n",
       "       [0.38174902, 0.43249885],\n",
       "       [0.        , 0.04482316],\n",
       "       [0.        , 0.06423519]])"
      ]
     },
     "execution_count": 48,
     "metadata": {},
     "output_type": "execute_result"
    }
   ],
   "source": [
    "f.interval_"
   ]
  },
  {
   "cell_type": "code",
   "execution_count": 49,
   "metadata": {},
   "outputs": [
    {
     "data": {
      "text/plain": [
       "array([0, 0, 0, 0, 0, 0, 0])"
      ]
     },
     "execution_count": 49,
     "metadata": {},
     "output_type": "execute_result"
    }
   ],
   "source": [
    "f.relevance_classes_"
   ]
  },
  {
   "cell_type": "code",
   "execution_count": null,
   "metadata": {},
   "outputs": [],
   "source": [
    "datasets  = []\n",
    "models = []\n",
    "results  = []\n",
    "\n",
    "\n",
    "# score funcs\n",
    "# precision funcs\n",
    "\n",
    "\n"
   ]
  }
 ],
 "metadata": {
  "kernelspec": {
   "display_name": "Python 3",
   "language": "python",
   "name": "python3"
  },
  "language_info": {
   "codemirror_mode": {
    "name": "ipython",
    "version": 3
   },
   "file_extension": ".py",
   "mimetype": "text/x-python",
   "name": "python",
   "nbconvert_exporter": "python",
   "pygments_lexer": "ipython3",
   "version": "3.7.6"
  }
 },
 "nbformat": 4,
 "nbformat_minor": 4
}
