{
 "cells": [
  {
   "cell_type": "code",
   "execution_count": 1,
   "metadata": {},
   "outputs": [],
   "source": [
    "import lightgbm\n",
    "\n",
    "\n",
    "import boruta\n",
    "\n",
    "import sklearn.feature_selection as fs\n",
    "\n",
    "import numpy as np\n",
    "\n",
    "import fri\n",
    "from sklearn.preprocessing import scale"
   ]
  },
  {
   "cell_type": "code",
   "execution_count": 2,
   "metadata": {},
   "outputs": [],
   "source": [
    "import pandas as pd\n",
    "from sklearn.ensemble import RandomForestClassifier\n",
    "from boruta import BorutaPy"
   ]
  },
  {
   "cell_type": "code",
   "execution_count": 3,
   "metadata": {},
   "outputs": [],
   "source": [
    "def get_truth_AR(d, informative, redundant):\n",
    "    truth = (\n",
    "        [2] * (informative) + [1] * (redundant) + [0] * (d - (informative + redundant))\n",
    "    )\n",
    "    return truth\n",
    "\n",
    "\n",
    "def get_truth(d, informative, redundant):\n",
    "    truth = [True] * (informative + redundant) + [False] * (\n",
    "        d - (informative + redundant)\n",
    "    )\n",
    "    return truth\n",
    "\n",
    "\n",
    "from sklearn.metrics import precision_score, recall_score, f1_score\n",
    "\n",
    "\n",
    "def get_scores(support, truth):\n",
    "    return [\n",
    "        (sc.__name__, sc(truth, support))\n",
    "        for sc in [precision_score, recall_score, f1_score]\n",
    "    ]\n",
    "\n",
    "\n",
    "import sklearn.feature_selection as fs\n",
    "\n",
    "\n",
    "def get_fs(estimator, X=None, y=None):\n",
    "    fset = fs.SelectFromModel(\n",
    "        prefit=True, estimator=estimator, threshold=\"mean\"\n",
    "    ).get_support()\n",
    "    # fset = fs.RFECV(estimator=estimator,cv=3).fit(X,y).get_support()\n",
    "    return fset\n",
    "\n",
    "\n",
    "def RF(X, y, params=None):\n",
    "    if params is None:\n",
    "        lm = lightgbm.LGBMClassifier(\n",
    "            max_depth=3, boosting_type=\"rf\", bagging_fraction=0.632, bagging_freq=1,\n",
    "        )\n",
    "    else:\n",
    "        lm = lightgbm.LGBMClassifier(**params)\n",
    "    lm.fit(X, y)\n",
    "    return lm\n",
    "\n",
    "\n",
    "def get_MR(X, y, params=None):\n",
    "    lm = RF(X, y, params)\n",
    "    # todo: welcher score?\n",
    "    score = lm.score(X, y)\n",
    "    fset = get_fs(lm, X, y)\n",
    "    fset = np.where(fset)\n",
    "    return fset[0], score\n",
    "\n",
    "\n",
    "def get_AR_params(X, y, params):\n",
    "    tree_params = {k: v for k, v in params.items() if not k.startswith(\"b_\")}\n",
    "    boruta_params = {k[2:]: v for k, v in params.items() if k.startswith(\"b_\")}\n",
    "\n",
    "    lm = lightgbm.LGBMClassifier(**tree_params)\n",
    "    feat_selector = BorutaPy(lm, verbose=0, random_state=1, **boruta_params)\n",
    "    feat_selector.fit(X, y)\n",
    "\n",
    "    fset = feat_selector.support_\n",
    "\n",
    "    return fset"
   ]
  },
  {
   "cell_type": "code",
   "execution_count": 4,
   "metadata": {},
   "outputs": [],
   "source": [
    "from sklearn.model_selection import ParameterGrid\n",
    "\n",
    "best_params_rf = {\n",
    "    \"max_depth\": [5],\n",
    "    \"boosting_type\": [\"rf\"],\n",
    "    \"bagging_fraction\": [0.632],\n",
    "    \"bagging_freq\": [1],\n",
    "    \"feature_fraction\": [0.1],\n",
    "    \"b_perc\": [100],\n",
    "    \"b_n_estimators\": [\"auto\"],\n",
    "    \"b_alpha\": [0.01],\n",
    "    \"b_max_iter\": [50],\n",
    "    \"importance_type\": [\"gain\"],\n",
    "}\n",
    "best_params_rf = ParameterGrid(best_params_rf)[0]"
   ]
  },
  {
   "cell_type": "code",
   "execution_count": 5,
   "metadata": {},
   "outputs": [],
   "source": [
    "best_params_boost = {\n",
    "    \"boosting_type\": [\"gbdt\"],\n",
    "}\n",
    "best_params_boost = ParameterGrid(best_params_boost)[0]"
   ]
  },
  {
   "cell_type": "markdown",
   "metadata": {},
   "source": [
    "# Iterative check"
   ]
  },
  {
   "cell_type": "code",
   "execution_count": 6,
   "metadata": {},
   "outputs": [],
   "source": [
    "from sklearn.model_selection import cross_val_score"
   ]
  },
  {
   "cell_type": "code",
   "execution_count": 54,
   "metadata": {},
   "outputs": [],
   "source": [
    "def create_support_AR(d, S, W):\n",
    "    sup = np.zeros(d)\n",
    "    sup[S] = 2\n",
    "    sup[W] = 1\n",
    "    return sup.astype(int)\n",
    "\n",
    "\n",
    "def cv_score(X, y, model, cv=20):\n",
    "    return np.mean(cross_val_score(model, X, y, cv=cv))\n",
    "\n",
    "\n",
    "def train_and_score(X, y, params=None):\n",
    "    rf = RF(X, y, params)\n",
    "    return cv_score(X, y, rf)\n",
    "\n",
    "\n",
    "def train_and_score_and_imps(X, y, params=None):\n",
    "    rf = RF(X, y, params)\n",
    "    return cv_score(X, y, rf), rf.feature_importances_\n",
    "\n",
    "\n",
    "def score_with_feature_set(X, y, featureset: list, params=None):\n",
    "    return train_and_score(X[:, featureset], y, params)\n",
    "\n",
    "\n",
    "def score_and_imps_with_feature_set(X, y, featureset: list, params=None):\n",
    "    return train_and_score_and_imps(X[:, featureset], y, params)\n",
    "\n",
    "\n",
    "def sort_features(X, y, MR, AR, params_rf=None, params_boost=None):\n",
    "    S = []\n",
    "    W = list(np.setdiff1d(AR, MR))\n",
    "    print(f\"predetermined weakly {W}\")\n",
    "\n",
    "    score_on_MR = score_with_feature_set(X, y, MR, params_boost)\n",
    "    score_on_AR = score_with_feature_set(X, y, AR, params_boost)\n",
    "    MR_and_W = np.union1d(MR, W)\n",
    "    score_on_MR_and_W = score_with_feature_set(X, y, MR_and_W, params_boost)\n",
    "    scores = {\"MR\": score_on_MR, \"AR\": score_on_AR, \"MR+W\": score_on_MR_and_W}\n",
    "    for k, sc in scores.items():\n",
    "        print(f\"{k} has score {sc}\")\n",
    "    diffs = np.zeros(len(MR))\n",
    "\n",
    "    len_MR = len(MR)\n",
    "    len_W = len(W)\n",
    "    n_features = len_MR + len_W\n",
    "    imps = np.zeros((len_MR,X.shape[1]))\n",
    "\n",
    "    for i, f in enumerate(MR):\n",
    "\n",
    "        C = np.setdiff1d(MR, f)  # Remove f from minimal set\n",
    "        C = np.union1d(C, W)  # Combine with weakly relevant features\n",
    "        C = sorted(C)\n",
    "        print(C)\n",
    "        \n",
    "        score_c, imps_c = score_and_imps_with_feature_set(X, y, C, params_boost)\n",
    "        imps[i,C] = imps_c\n",
    "        imps[i,i] = np.mean(imps_c)\n",
    "        print(f\"score without {f} is {score_c:.3}-> \", end=\"\")\n",
    "\n",
    "        diffs[i] = score_on_MR_and_W - score_c\n",
    "\n",
    "        if score_c < score_on_MR_and_W:\n",
    "            print(f\"S\")\n",
    "            S.append(f)\n",
    "        else:\n",
    "            print(f\"W\")\n",
    "            W.append(f)\n",
    "    return create_support_AR(X.shape[1], S, W), diffs,imps\n",
    "\n",
    "\n",
    "def get_ar_classes(X, y, params_rf, params_boost):\n",
    "\n",
    "    AR = np.where(get_AR_params(X, y, params_rf))[0]\n",
    "    MR, score = get_MR(X, y, params_boost)\n",
    "\n",
    "    print(f\"Features from Boruta:\\n {AR}\")\n",
    "    print(f\"Features from Lightbgm:\\n {MR}\")\n",
    "\n",
    "    return sort_features(X, y, MR, AR, params_rf, params_boost)"
   ]
  },
  {
   "cell_type": "code",
   "execution_count": 55,
   "metadata": {},
   "outputs": [],
   "source": [
    "informative = 10\n",
    "redundant = 4\n",
    "d = 50\n",
    "\n",
    "X, y = fri.genClassificationData(\n",
    "    n_features=d,\n",
    "    n_redundant=redundant,\n",
    "    n_strel=informative,\n",
    "    n_samples=400,\n",
    "    random_state=123,\n",
    ")\n",
    "X = scale(X)\n",
    "\n",
    "truth = get_truth(d, informative, redundant)\n",
    "truth_AR = get_truth_AR(d, informative, redundant)"
   ]
  },
  {
   "cell_type": "code",
   "execution_count": 56,
   "metadata": {},
   "outputs": [
    {
     "name": "stdout",
     "output_type": "stream",
     "text": [
      "Features from Boruta:\n",
      " [ 0  1  2  3  4  5  7  8  9 10 11 12]\n",
      "Features from Lightbgm:\n",
      " [ 0  1  2  3  4  5  6  7  8  9 12 20 25]\n",
      "predetermined weakly [10, 11]\n",
      "MR has score 0.8606015037593986\n",
      "AR has score 0.8583646616541353\n",
      "MR+W has score 0.8658395989974939\n",
      "[1, 2, 3, 4, 5, 6, 7, 8, 9, 10, 11, 12, 20, 25]\n",
      "score without 0 is 0.823-> S\n",
      "[0, 2, 3, 4, 5, 6, 7, 8, 9, 10, 11, 12, 20, 25]\n",
      "score without 1 is 0.832-> S\n",
      "[0, 1, 3, 4, 5, 6, 7, 8, 9, 10, 11, 12, 20, 25]\n",
      "score without 2 is 0.836-> S\n",
      "[0, 1, 2, 4, 5, 6, 7, 8, 9, 10, 11, 12, 20, 25]\n",
      "score without 3 is 0.812-> S\n",
      "[0, 1, 2, 3, 5, 6, 7, 8, 9, 10, 11, 12, 20, 25]\n",
      "score without 4 is 0.817-> S\n",
      "[0, 1, 2, 3, 4, 6, 7, 8, 9, 10, 11, 12, 20, 25]\n",
      "score without 5 is 0.816-> S\n",
      "[0, 1, 2, 3, 4, 5, 7, 8, 9, 10, 11, 12, 20, 25]\n",
      "score without 6 is 0.856-> S\n",
      "[0, 1, 2, 3, 4, 5, 6, 8, 9, 10, 11, 12, 20, 25]\n",
      "score without 7 is 0.836-> S\n",
      "[0, 1, 2, 3, 4, 5, 6, 7, 9, 10, 11, 12, 20, 25]\n",
      "score without 8 is 0.816-> S\n",
      "[0, 1, 2, 3, 4, 5, 6, 7, 8, 10, 11, 12, 20, 25]\n",
      "score without 9 is 0.813-> S\n",
      "[0, 1, 2, 3, 4, 5, 6, 7, 8, 9, 10, 11, 20, 25]\n",
      "score without 12 is 0.858-> S\n",
      "[0, 1, 2, 3, 4, 5, 6, 7, 8, 9, 10, 11, 12, 25]\n",
      "score without 20 is 0.858-> S\n",
      "[0, 1, 2, 3, 4, 5, 6, 7, 8, 9, 10, 11, 12, 20]\n",
      "score without 25 is 0.851-> S\n"
     ]
    }
   ],
   "source": [
    "predict_AR, diffs,imps = get_ar_classes(X, y, best_params_rf, best_params_boost)"
   ]
  },
  {
   "cell_type": "code",
   "execution_count": 57,
   "metadata": {},
   "outputs": [
    {
     "data": {
      "text/plain": [
       "(13, 50)"
      ]
     },
     "execution_count": 57,
     "metadata": {},
     "output_type": "execute_result"
    }
   ],
   "source": [
    "imps.shape"
   ]
  },
  {
   "cell_type": "code",
   "execution_count": 58,
   "metadata": {},
   "outputs": [
    {
     "data": {
      "text/plain": [
       "array([[103.28571429, 150.        , 132.        , 115.        ,\n",
       "        137.        , 135.        , 102.        , 127.        ,\n",
       "        151.        , 146.        ,  42.        ,  36.        ,\n",
       "         63.        ,   0.        ,   0.        ,   0.        ,\n",
       "          0.        ,   0.        ,   0.        ,   0.        ,\n",
       "         71.        ,   0.        ,   0.        ,   0.        ,\n",
       "          0.        ,  39.        ,   0.        ,   0.        ,\n",
       "          0.        ,   0.        ,   0.        ,   0.        ,\n",
       "          0.        ,   0.        ,   0.        ,   0.        ,\n",
       "          0.        ,   0.        ,   0.        ,   0.        ,\n",
       "          0.        ,   0.        ,   0.        ,   0.        ,\n",
       "          0.        ,   0.        ,   0.        ,   0.        ,\n",
       "          0.        ,   0.        ],\n",
       "       [122.        , 102.        , 115.        , 128.        ,\n",
       "        150.        , 115.        ,  98.        , 149.        ,\n",
       "        152.        , 124.        ,  46.        ,  54.        ,\n",
       "         62.        ,   0.        ,   0.        ,   0.        ,\n",
       "          0.        ,   0.        ,   0.        ,   0.        ,\n",
       "         65.        ,   0.        ,   0.        ,   0.        ,\n",
       "          0.        ,  48.        ,   0.        ,   0.        ,\n",
       "          0.        ,   0.        ,   0.        ,   0.        ,\n",
       "          0.        ,   0.        ,   0.        ,   0.        ,\n",
       "          0.        ,   0.        ,   0.        ,   0.        ,\n",
       "          0.        ,   0.        ,   0.        ,   0.        ,\n",
       "          0.        ,   0.        ,   0.        ,   0.        ,\n",
       "          0.        ,   0.        ],\n",
       "       [132.        , 132.        , 102.92857143, 129.        ,\n",
       "        138.        , 134.        ,  92.        , 152.        ,\n",
       "        136.        , 136.        ,  50.        ,  31.        ,\n",
       "         66.        ,   0.        ,   0.        ,   0.        ,\n",
       "          0.        ,   0.        ,   0.        ,   0.        ,\n",
       "         68.        ,   0.        ,   0.        ,   0.        ,\n",
       "          0.        ,  45.        ,   0.        ,   0.        ,\n",
       "          0.        ,   0.        ,   0.        ,   0.        ,\n",
       "          0.        ,   0.        ,   0.        ,   0.        ,\n",
       "          0.        ,   0.        ,   0.        ,   0.        ,\n",
       "          0.        ,   0.        ,   0.        ,   0.        ,\n",
       "          0.        ,   0.        ,   0.        ,   0.        ,\n",
       "          0.        ,   0.        ],\n",
       "       [127.        , 147.        , 127.        , 102.78571429,\n",
       "        128.        , 138.        ,  87.        , 135.        ,\n",
       "        134.        , 138.        ,  36.        ,  41.        ,\n",
       "         72.        ,   0.        ,   0.        ,   0.        ,\n",
       "          0.        ,   0.        ,   0.        ,   0.        ,\n",
       "         61.        ,   0.        ,   0.        ,   0.        ,\n",
       "          0.        ,  68.        ,   0.        ,   0.        ,\n",
       "          0.        ,   0.        ,   0.        ,   0.        ,\n",
       "          0.        ,   0.        ,   0.        ,   0.        ,\n",
       "          0.        ,   0.        ,   0.        ,   0.        ,\n",
       "          0.        ,   0.        ,   0.        ,   0.        ,\n",
       "          0.        ,   0.        ,   0.        ,   0.        ,\n",
       "          0.        ,   0.        ],\n",
       "       [137.        , 131.        , 123.        , 137.        ,\n",
       "        102.78571429, 133.        ,  98.        , 140.        ,\n",
       "        130.        , 146.        ,  41.        ,  45.        ,\n",
       "         55.        ,   0.        ,   0.        ,   0.        ,\n",
       "          0.        ,   0.        ,   0.        ,   0.        ,\n",
       "         70.        ,   0.        ,   0.        ,   0.        ,\n",
       "          0.        ,  53.        ,   0.        ,   0.        ,\n",
       "          0.        ,   0.        ,   0.        ,   0.        ,\n",
       "          0.        ,   0.        ,   0.        ,   0.        ,\n",
       "          0.        ,   0.        ,   0.        ,   0.        ,\n",
       "          0.        ,   0.        ,   0.        ,   0.        ,\n",
       "          0.        ,   0.        ,   0.        ,   0.        ,\n",
       "          0.        ,   0.        ],\n",
       "       [137.        , 141.        , 122.        , 123.        ,\n",
       "        135.        , 102.35714286, 111.        , 142.        ,\n",
       "        130.        , 122.        ,  28.        ,  47.        ,\n",
       "         75.        ,   0.        ,   0.        ,   0.        ,\n",
       "          0.        ,   0.        ,   0.        ,   0.        ,\n",
       "         59.        ,   0.        ,   0.        ,   0.        ,\n",
       "          0.        ,  61.        ,   0.        ,   0.        ,\n",
       "          0.        ,   0.        ,   0.        ,   0.        ,\n",
       "          0.        ,   0.        ,   0.        ,   0.        ,\n",
       "          0.        ,   0.        ,   0.        ,   0.        ,\n",
       "          0.        ,   0.        ,   0.        ,   0.        ,\n",
       "          0.        ,   0.        ,   0.        ,   0.        ,\n",
       "          0.        ,   0.        ],\n",
       "       [117.        , 128.        , 115.        , 123.        ,\n",
       "        139.        , 128.        , 102.85714286, 149.        ,\n",
       "        130.        , 132.        ,  45.        ,  37.        ,\n",
       "         61.        ,   0.        ,   0.        ,   0.        ,\n",
       "          0.        ,   0.        ,   0.        ,   0.        ,\n",
       "         67.        ,   0.        ,   0.        ,   0.        ,\n",
       "          0.        ,  69.        ,   0.        ,   0.        ,\n",
       "          0.        ,   0.        ,   0.        ,   0.        ,\n",
       "          0.        ,   0.        ,   0.        ,   0.        ,\n",
       "          0.        ,   0.        ,   0.        ,   0.        ,\n",
       "          0.        ,   0.        ,   0.        ,   0.        ,\n",
       "          0.        ,   0.        ,   0.        ,   0.        ,\n",
       "          0.        ,   0.        ],\n",
       "       [135.        , 122.        , 130.        , 108.        ,\n",
       "        128.        , 121.        , 116.        , 101.78571429,\n",
       "        144.        , 138.        ,  35.        ,  56.        ,\n",
       "         58.        ,   0.        ,   0.        ,   0.        ,\n",
       "          0.        ,   0.        ,   0.        ,   0.        ,\n",
       "         73.        ,   0.        ,   0.        ,   0.        ,\n",
       "          0.        ,  61.        ,   0.        ,   0.        ,\n",
       "          0.        ,   0.        ,   0.        ,   0.        ,\n",
       "          0.        ,   0.        ,   0.        ,   0.        ,\n",
       "          0.        ,   0.        ,   0.        ,   0.        ,\n",
       "          0.        ,   0.        ,   0.        ,   0.        ,\n",
       "          0.        ,   0.        ,   0.        ,   0.        ,\n",
       "          0.        ,   0.        ],\n",
       "       [139.        , 140.        , 139.        , 116.        ,\n",
       "        119.        , 122.        , 100.        , 145.        ,\n",
       "        102.42857143, 139.        ,  45.        ,  48.        ,\n",
       "         65.        ,   0.        ,   0.        ,   0.        ,\n",
       "          0.        ,   0.        ,   0.        ,   0.        ,\n",
       "         59.        ,   0.        ,   0.        ,   0.        ,\n",
       "          0.        ,  58.        ,   0.        ,   0.        ,\n",
       "          0.        ,   0.        ,   0.        ,   0.        ,\n",
       "          0.        ,   0.        ,   0.        ,   0.        ,\n",
       "          0.        ,   0.        ,   0.        ,   0.        ,\n",
       "          0.        ,   0.        ,   0.        ,   0.        ,\n",
       "          0.        ,   0.        ,   0.        ,   0.        ,\n",
       "          0.        ,   0.        ],\n",
       "       [125.        , 131.        , 134.        , 118.        ,\n",
       "        136.        , 125.        , 108.        , 153.        ,\n",
       "        136.        , 103.        ,  37.        ,  58.        ,\n",
       "         77.        ,   0.        ,   0.        ,   0.        ,\n",
       "          0.        ,   0.        ,   0.        ,   0.        ,\n",
       "         38.        ,   0.        ,   0.        ,   0.        ,\n",
       "          0.        ,  66.        ,   0.        ,   0.        ,\n",
       "          0.        ,   0.        ,   0.        ,   0.        ,\n",
       "          0.        ,   0.        ,   0.        ,   0.        ,\n",
       "          0.        ,   0.        ,   0.        ,   0.        ,\n",
       "          0.        ,   0.        ,   0.        ,   0.        ,\n",
       "          0.        ,   0.        ,   0.        ,   0.        ,\n",
       "          0.        ,   0.        ],\n",
       "       [129.        , 129.        , 116.        , 106.        ,\n",
       "        136.        , 112.        , 101.        , 133.        ,\n",
       "        129.        , 122.        , 102.5       ,  55.        ,\n",
       "          0.        ,   0.        ,   0.        ,   0.        ,\n",
       "          0.        ,   0.        ,   0.        ,   0.        ,\n",
       "         50.        ,   0.        ,   0.        ,   0.        ,\n",
       "          0.        ,  38.        ,   0.        ,   0.        ,\n",
       "          0.        ,   0.        ,   0.        ,   0.        ,\n",
       "          0.        ,   0.        ,   0.        ,   0.        ,\n",
       "          0.        ,   0.        ,   0.        ,   0.        ,\n",
       "          0.        ,   0.        ,   0.        ,   0.        ,\n",
       "          0.        ,   0.        ,   0.        ,   0.        ,\n",
       "          0.        ,   0.        ],\n",
       "       [134.        , 131.        , 119.        , 104.        ,\n",
       "        139.        , 119.        ,  94.        , 140.        ,\n",
       "        138.        , 130.        ,  47.        , 103.35714286,\n",
       "         66.        ,   0.        ,   0.        ,   0.        ,\n",
       "          0.        ,   0.        ,   0.        ,   0.        ,\n",
       "          0.        ,   0.        ,   0.        ,   0.        ,\n",
       "          0.        ,  45.        ,   0.        ,   0.        ,\n",
       "          0.        ,   0.        ,   0.        ,   0.        ,\n",
       "          0.        ,   0.        ,   0.        ,   0.        ,\n",
       "          0.        ,   0.        ,   0.        ,   0.        ,\n",
       "          0.        ,   0.        ,   0.        ,   0.        ,\n",
       "          0.        ,   0.        ,   0.        ,   0.        ,\n",
       "          0.        ,   0.        ],\n",
       "       [125.        , 135.        , 108.        , 115.        ,\n",
       "        148.        , 132.        , 104.        , 131.        ,\n",
       "        127.        , 124.        ,  56.        ,  35.        ,\n",
       "        103.64285714,   0.        ,   0.        ,   0.        ,\n",
       "          0.        ,   0.        ,   0.        ,   0.        ,\n",
       "         49.        ,   0.        ,   0.        ,   0.        ,\n",
       "          0.        ,   0.        ,   0.        ,   0.        ,\n",
       "          0.        ,   0.        ,   0.        ,   0.        ,\n",
       "          0.        ,   0.        ,   0.        ,   0.        ,\n",
       "          0.        ,   0.        ,   0.        ,   0.        ,\n",
       "          0.        ,   0.        ,   0.        ,   0.        ,\n",
       "          0.        ,   0.        ,   0.        ,   0.        ,\n",
       "          0.        ,   0.        ]])"
      ]
     },
     "execution_count": 58,
     "metadata": {},
     "output_type": "execute_result"
    }
   ],
   "source": [
    "imps"
   ]
  },
  {
   "cell_type": "code",
   "execution_count": 63,
   "metadata": {},
   "outputs": [
    {
     "data": {
      "text/plain": [
       "array([-24.58241758,  17.76923077,  10.23626374,  -2.29120879,\n",
       "         3.47802198,  10.66483516,   0.93406593, -11.29120879,\n",
       "        17.1978022 ,  15.23076923,  -4.96153846, -13.71978022,\n",
       "        -0.35714286,   0.        ,   0.        ,   0.        ,\n",
       "         0.        ,   0.        ,   0.        ,   0.        ,\n",
       "        14.84615385,   0.        ,   0.        ,   0.        ,\n",
       "         0.        , -11.07692308,   0.        ,   0.        ,\n",
       "         0.        ,   0.        ,   0.        ,   0.        ,\n",
       "         0.        ,   0.        ,   0.        ,   0.        ,\n",
       "         0.        ,   0.        ,   0.        ,   0.        ,\n",
       "         0.        ,   0.        ,   0.        ,   0.        ,\n",
       "         0.        ,   0.        ,   0.        ,   0.        ,\n",
       "         0.        ,   0.        ])"
      ]
     },
     "execution_count": 63,
     "metadata": {},
     "output_type": "execute_result"
    }
   ],
   "source": [
    "imps[0]-imps.mean(0)"
   ]
  },
  {
   "cell_type": "code",
   "execution_count": 61,
   "metadata": {},
   "outputs": [
    {
     "data": {
      "text/plain": [
       "array([127.86813187, 132.23076923, 121.76373626, 117.29120879,\n",
       "       133.52197802, 124.33516484, 101.06593407, 138.29120879,\n",
       "       133.8021978 , 130.76923077,  46.96153846,  49.71978022,\n",
       "        63.35714286,   0.        ,   0.        ,   0.        ,\n",
       "         0.        ,   0.        ,   0.        ,   0.        ,\n",
       "        56.15384615,   0.        ,   0.        ,   0.        ,\n",
       "         0.        ,  50.07692308,   0.        ,   0.        ,\n",
       "         0.        ,   0.        ,   0.        ,   0.        ,\n",
       "         0.        ,   0.        ,   0.        ,   0.        ,\n",
       "         0.        ,   0.        ,   0.        ,   0.        ,\n",
       "         0.        ,   0.        ,   0.        ,   0.        ,\n",
       "         0.        ,   0.        ,   0.        ,   0.        ,\n",
       "         0.        ,   0.        ])"
      ]
     },
     "execution_count": 61,
     "metadata": {},
     "output_type": "execute_result"
    }
   ],
   "source": [
    "imps.mean(0)"
   ]
  },
  {
   "cell_type": "code",
   "execution_count": 12,
   "metadata": {},
   "outputs": [
    {
     "name": "stdout",
     "output_type": "stream",
     "text": [
      "0.25\n"
     ]
    },
    {
     "data": {
      "text/plain": [
       "<matplotlib.axes._subplots.AxesSubplot at 0x7f37640f4910>"
      ]
     },
     "execution_count": 12,
     "metadata": {},
     "output_type": "execute_result"
    },
    {
     "data": {
      "image/png": "[encoded data removed]",
      "text/plain": [
       "<Figure size 432x288 with 2 Axes>"
      ]
     },
     "metadata": {
      "needs_background": "light"
     },
     "output_type": "display_data"
    },
    {
     "data": {
      "image/png": "[encoded data removed]",
      "text/plain": [
       "<Figure size 432x288 with 2 Axes>"
      ]
     },
     "metadata": {
      "needs_background": "light"
     },
     "output_type": "display_data"
    }
   ],
   "source": [
    "from scipy.spatial.distance import jaccard\n",
    "\n",
    "jac = jaccard(predict_AR, truth_AR)\n",
    "print(jac)\n",
    "\n",
    "import seaborn as sns\n",
    "import matplotlib.pyplot as plt\n",
    "%matplotlib inline\n",
    "sns.heatmap(np.array([predict_AR, truth_AR]), yticklabels=[\"predict\", \"true\"])\n",
    "plt.figure()\n",
    "sns.heatmap(np.array([imps.sum(0), truth_AR]), yticklabels=[\"predict\", \"true\"])"
   ]
  },
  {
   "cell_type": "code",
   "execution_count": 13,
   "metadata": {},
   "outputs": [
    {
     "data": {
      "text/plain": [
       "array([0.04303885, 0.03339599, 0.02986842, 0.05342105, 0.04865915,\n",
       "       0.05028822, 0.01022556, 0.03003759, 0.04966792, 0.05252506,\n",
       "       0.00763158, 0.0081203 , 0.01486842])"
      ]
     },
     "execution_count": 13,
     "metadata": {},
     "output_type": "execute_result"
    }
   ],
   "source": [
    "diffs"
   ]
  },
  {
   "cell_type": "code",
   "execution_count": 14,
   "metadata": {},
   "outputs": [
    {
     "data": {
      "text/plain": [
       "<BarContainer object of 13 artists>"
      ]
     },
     "execution_count": 14,
     "metadata": {},
     "output_type": "execute_result"
    },
    {
     "data": {
      "image/png": "[encoded data removed]",
      "text/plain": [
       "<Figure size 432x288 with 1 Axes>"
      ]
     },
     "metadata": {
      "needs_background": "light"
     },
     "output_type": "display_data"
    }
   ],
   "source": [
    "plt.bar(np.arange(len(diffs)), height=diffs)"
   ]
  },
  {
   "cell_type": "code",
   "execution_count": 15,
   "metadata": {},
   "outputs": [
    {
     "data": {
      "text/plain": [
       "<matplotlib.axes._subplots.AxesSubplot at 0x7f37c4755f90>"
      ]
     },
     "execution_count": 15,
     "metadata": {},
     "output_type": "execute_result"
    },
    {
     "data": {
      "image/png": "[encoded data removed]",
      "text/plain": [
       "<Figure size 720x216 with 1 Axes>"
      ]
     },
     "metadata": {
      "needs_background": "light"
     },
     "output_type": "display_data"
    }
   ],
   "source": [
    "from sklearn.feature_selection import mutual_info_classif as mi\n",
    "import seaborn as sns\n",
    "import matplotlib.pyplot as plt\n",
    "\n",
    "plt.figure(figsize=(10, 3))\n",
    "sns.barplot(y=mi(X, y, n_neighbors=50), x=np.arange(X.shape[1]), hue=predict_AR)"
   ]
  },
  {
   "cell_type": "code",
   "execution_count": 18,
   "metadata": {},
   "outputs": [],
   "source": [
    "import squamish.plot"
   ]
  },
  {
   "cell_type": "code",
   "execution_count": 20,
   "metadata": {},
   "outputs": [],
   "source": [
    "color = squamish.plot.get_colors(imps.shape[1],predict_AR)"
   ]
  },
  {
   "cell_type": "code",
   "execution_count": 27,
   "metadata": {},
   "outputs": [
    {
     "data": {
      "text/plain": [
       "<matplotlib.axes._subplots.AxesSubplot at 0x7f375566a1d0>"
      ]
     },
     "execution_count": 27,
     "metadata": {},
     "output_type": "execute_result"
    },
    {
     "data": {
      "image/png": "[encoded data removed]",
      "text/plain": [
       "<Figure size 720x216 with 1 Axes>"
      ]
     },
     "metadata": {
      "needs_background": "light"
     },
     "output_type": "display_data"
    }
   ],
   "source": [
    "plt.figure(figsize=(10, 3))\n",
    "sns.barplot(data=pd.DataFrame(imps),ci=\"sd\")"
   ]
  },
  {
   "cell_type": "code",
   "execution_count": 34,
   "metadata": {},
   "outputs": [],
   "source": [
    "rel_interval = np.hstack((imps.min(0),imps.max(0)))"
   ]
  },
  {
   "cell_type": "code",
   "execution_count": 38,
   "metadata": {},
   "outputs": [],
   "source": [
    "mean = imps.mean()"
   ]
  },
  {
   "cell_type": "code",
   "execution_count": 39,
   "metadata": {},
   "outputs": [
    {
     "data": {
      "text/plain": [
       "28.76923076923077"
      ]
     },
     "execution_count": 39,
     "metadata": {},
     "output_type": "execute_result"
    }
   ],
   "source": [
    "mean"
   ]
  },
  {
   "cell_type": "code",
   "execution_count": 33,
   "metadata": {},
   "outputs": [
    {
     "ename": "ValueError",
     "evalue": "shape mismatch: objects cannot be broadcast to a single shape",
     "output_type": "error",
     "traceback": [
      "\u001b[0;31m---------------------------------------------------------------------------\u001b[0m",
      "\u001b[0;31mValueError\u001b[0m                                Traceback (most recent call last)",
      "\u001b[0;32m<ipython-input-33-8880a944c4e8>\u001b[0m in \u001b[0;36m<module>\u001b[0;34m\u001b[0m\n\u001b[0;32m----> 1\u001b[0;31m \u001b[0msquamish\u001b[0m\u001b[0;34m.\u001b[0m\u001b[0mplot\u001b[0m\u001b[0;34m.\u001b[0m\u001b[0mplot_importances\u001b[0m\u001b[0;34m(\u001b[0m\u001b[0mrel_interval\u001b[0m\u001b[0;34m)\u001b[0m\u001b[0;34m\u001b[0m\u001b[0;34m\u001b[0m\u001b[0m\n\u001b[0m",
      "\u001b[0;32m~/Dropbox/Promotion/prj/squamish/squamish/plot.py\u001b[0m in \u001b[0;36mplot_importances\u001b[0;34m(importances, ticklabels, invert, classes)\u001b[0m\n\u001b[1;32m     99\u001b[0m     \u001b[0max\u001b[0m \u001b[0;34m=\u001b[0m \u001b[0mfig\u001b[0m\u001b[0;34m.\u001b[0m\u001b[0madd_subplot\u001b[0m\u001b[0;34m(\u001b[0m\u001b[0;36m111\u001b[0m\u001b[0;34m)\u001b[0m\u001b[0;34m\u001b[0m\u001b[0;34m\u001b[0m\u001b[0m\n\u001b[1;32m    100\u001b[0m \u001b[0;34m\u001b[0m\u001b[0m\n\u001b[0;32m--> 101\u001b[0;31m     \u001b[0mplot_bars\u001b[0m\u001b[0;34m(\u001b[0m\u001b[0max\u001b[0m\u001b[0;34m,\u001b[0m \u001b[0mimportances\u001b[0m\u001b[0;34m,\u001b[0m \u001b[0mticklabels\u001b[0m\u001b[0;34m=\u001b[0m\u001b[0mticklabels\u001b[0m\u001b[0;34m,\u001b[0m \u001b[0mclasses\u001b[0m\u001b[0;34m=\u001b[0m\u001b[0mclasses\u001b[0m\u001b[0;34m)\u001b[0m\u001b[0;34m\u001b[0m\u001b[0;34m\u001b[0m\u001b[0m\n\u001b[0m\u001b[1;32m    102\u001b[0m     \u001b[0mfig\u001b[0m\u001b[0;34m.\u001b[0m\u001b[0mautofmt_xdate\u001b[0m\u001b[0;34m(\u001b[0m\u001b[0;34m)\u001b[0m\u001b[0;34m\u001b[0m\u001b[0;34m\u001b[0m\u001b[0m\n\u001b[1;32m    103\u001b[0m     \u001b[0;31m# Invert the xaxis for cases in which the comparison with other tools\u001b[0m\u001b[0;34m\u001b[0m\u001b[0;34m\u001b[0m\u001b[0;34m\u001b[0m\u001b[0m\n",
      "\u001b[0;32m~/Dropbox/Promotion/prj/squamish/squamish/plot.py\u001b[0m in \u001b[0;36mplot_bars\u001b[0;34m(ax, importances, ticklabels, classes, numbering, tick_rotation)\u001b[0m\n\u001b[1;32m     69\u001b[0m         \u001b[0medgecolor\u001b[0m\u001b[0;34m=\u001b[0m\u001b[0;34m[\u001b[0m\u001b[0;34m\"black\"\u001b[0m\u001b[0;34m]\u001b[0m \u001b[0;34m*\u001b[0m \u001b[0mN\u001b[0m\u001b[0;34m,\u001b[0m\u001b[0;34m\u001b[0m\u001b[0;34m\u001b[0m\u001b[0m\n\u001b[1;32m     70\u001b[0m         \u001b[0mlinewidth\u001b[0m\u001b[0;34m=\u001b[0m\u001b[0;36m1.3\u001b[0m\u001b[0;34m,\u001b[0m\u001b[0;34m\u001b[0m\u001b[0;34m\u001b[0m\u001b[0m\n\u001b[0;32m---> 71\u001b[0;31m         \u001b[0mcolor\u001b[0m\u001b[0;34m=\u001b[0m\u001b[0mcolor\u001b[0m\u001b[0;34m,\u001b[0m\u001b[0;34m\u001b[0m\u001b[0;34m\u001b[0m\u001b[0m\n\u001b[0m\u001b[1;32m     72\u001b[0m     )\n\u001b[1;32m     73\u001b[0m \u001b[0;34m\u001b[0m\u001b[0m\n",
      "\u001b[0;32m~/.cache/pypoetry/virtualenvs/squamish-ys7rEhGb-py3.7/lib64/python3.7/site-packages/matplotlib/__init__.py\u001b[0m in \u001b[0;36minner\u001b[0;34m(ax, data, *args, **kwargs)\u001b[0m\n\u001b[1;32m   1599\u001b[0m     \u001b[0;32mdef\u001b[0m \u001b[0minner\u001b[0m\u001b[0;34m(\u001b[0m\u001b[0max\u001b[0m\u001b[0;34m,\u001b[0m \u001b[0;34m*\u001b[0m\u001b[0margs\u001b[0m\u001b[0;34m,\u001b[0m \u001b[0mdata\u001b[0m\u001b[0;34m=\u001b[0m\u001b[0;32mNone\u001b[0m\u001b[0;34m,\u001b[0m \u001b[0;34m**\u001b[0m\u001b[0mkwargs\u001b[0m\u001b[0;34m)\u001b[0m\u001b[0;34m:\u001b[0m\u001b[0;34m\u001b[0m\u001b[0;34m\u001b[0m\u001b[0m\n\u001b[1;32m   1600\u001b[0m         \u001b[0;32mif\u001b[0m \u001b[0mdata\u001b[0m \u001b[0;32mis\u001b[0m \u001b[0;32mNone\u001b[0m\u001b[0;34m:\u001b[0m\u001b[0;34m\u001b[0m\u001b[0;34m\u001b[0m\u001b[0m\n\u001b[0;32m-> 1601\u001b[0;31m             \u001b[0;32mreturn\u001b[0m \u001b[0mfunc\u001b[0m\u001b[0;34m(\u001b[0m\u001b[0max\u001b[0m\u001b[0;34m,\u001b[0m \u001b[0;34m*\u001b[0m\u001b[0mmap\u001b[0m\u001b[0;34m(\u001b[0m\u001b[0msanitize_sequence\u001b[0m\u001b[0;34m,\u001b[0m \u001b[0margs\u001b[0m\u001b[0;34m)\u001b[0m\u001b[0;34m,\u001b[0m \u001b[0;34m**\u001b[0m\u001b[0mkwargs\u001b[0m\u001b[0;34m)\u001b[0m\u001b[0;34m\u001b[0m\u001b[0;34m\u001b[0m\u001b[0m\n\u001b[0m\u001b[1;32m   1602\u001b[0m \u001b[0;34m\u001b[0m\u001b[0m\n\u001b[1;32m   1603\u001b[0m         \u001b[0mbound\u001b[0m \u001b[0;34m=\u001b[0m \u001b[0mnew_sig\u001b[0m\u001b[0;34m.\u001b[0m\u001b[0mbind\u001b[0m\u001b[0;34m(\u001b[0m\u001b[0max\u001b[0m\u001b[0;34m,\u001b[0m \u001b[0;34m*\u001b[0m\u001b[0margs\u001b[0m\u001b[0;34m,\u001b[0m \u001b[0;34m**\u001b[0m\u001b[0mkwargs\u001b[0m\u001b[0;34m)\u001b[0m\u001b[0;34m\u001b[0m\u001b[0;34m\u001b[0m\u001b[0m\n",
      "\u001b[0;32m~/.cache/pypoetry/virtualenvs/squamish-ys7rEhGb-py3.7/lib64/python3.7/site-packages/matplotlib/axes/_axes.py\u001b[0m in \u001b[0;36mbar\u001b[0;34m(self, x, height, width, bottom, align, **kwargs)\u001b[0m\n\u001b[1;32m   2373\u001b[0m         x, height, width, y, linewidth = np.broadcast_arrays(\n\u001b[1;32m   2374\u001b[0m             \u001b[0;31m# Make args iterable too.\u001b[0m\u001b[0;34m\u001b[0m\u001b[0;34m\u001b[0m\u001b[0;34m\u001b[0m\u001b[0m\n\u001b[0;32m-> 2375\u001b[0;31m             np.atleast_1d(x), height, width, y, linewidth)\n\u001b[0m\u001b[1;32m   2376\u001b[0m \u001b[0;34m\u001b[0m\u001b[0m\n\u001b[1;32m   2377\u001b[0m         \u001b[0;31m# Now that units have been converted, set the tick locations.\u001b[0m\u001b[0;34m\u001b[0m\u001b[0;34m\u001b[0m\u001b[0;34m\u001b[0m\u001b[0m\n",
      "\u001b[0;32m<__array_function__ internals>\u001b[0m in \u001b[0;36mbroadcast_arrays\u001b[0;34m(*args, **kwargs)\u001b[0m\n",
      "\u001b[0;32m~/.cache/pypoetry/virtualenvs/squamish-ys7rEhGb-py3.7/lib64/python3.7/site-packages/numpy/lib/stride_tricks.py\u001b[0m in \u001b[0;36mbroadcast_arrays\u001b[0;34m(*args, **kwargs)\u001b[0m\n\u001b[1;32m    262\u001b[0m     \u001b[0margs\u001b[0m \u001b[0;34m=\u001b[0m \u001b[0;34m[\u001b[0m\u001b[0mnp\u001b[0m\u001b[0;34m.\u001b[0m\u001b[0marray\u001b[0m\u001b[0;34m(\u001b[0m\u001b[0m_m\u001b[0m\u001b[0;34m,\u001b[0m \u001b[0mcopy\u001b[0m\u001b[0;34m=\u001b[0m\u001b[0;32mFalse\u001b[0m\u001b[0;34m,\u001b[0m \u001b[0msubok\u001b[0m\u001b[0;34m=\u001b[0m\u001b[0msubok\u001b[0m\u001b[0;34m)\u001b[0m \u001b[0;32mfor\u001b[0m \u001b[0m_m\u001b[0m \u001b[0;32min\u001b[0m \u001b[0margs\u001b[0m\u001b[0;34m]\u001b[0m\u001b[0;34m\u001b[0m\u001b[0;34m\u001b[0m\u001b[0m\n\u001b[1;32m    263\u001b[0m \u001b[0;34m\u001b[0m\u001b[0m\n\u001b[0;32m--> 264\u001b[0;31m     \u001b[0mshape\u001b[0m \u001b[0;34m=\u001b[0m \u001b[0m_broadcast_shape\u001b[0m\u001b[0;34m(\u001b[0m\u001b[0;34m*\u001b[0m\u001b[0margs\u001b[0m\u001b[0;34m)\u001b[0m\u001b[0;34m\u001b[0m\u001b[0;34m\u001b[0m\u001b[0m\n\u001b[0m\u001b[1;32m    265\u001b[0m \u001b[0;34m\u001b[0m\u001b[0m\n\u001b[1;32m    266\u001b[0m     \u001b[0;32mif\u001b[0m \u001b[0mall\u001b[0m\u001b[0;34m(\u001b[0m\u001b[0marray\u001b[0m\u001b[0;34m.\u001b[0m\u001b[0mshape\u001b[0m \u001b[0;34m==\u001b[0m \u001b[0mshape\u001b[0m \u001b[0;32mfor\u001b[0m \u001b[0marray\u001b[0m \u001b[0;32min\u001b[0m \u001b[0margs\u001b[0m\u001b[0;34m)\u001b[0m\u001b[0;34m:\u001b[0m\u001b[0;34m\u001b[0m\u001b[0;34m\u001b[0m\u001b[0m\n",
      "\u001b[0;32m~/.cache/pypoetry/virtualenvs/squamish-ys7rEhGb-py3.7/lib64/python3.7/site-packages/numpy/lib/stride_tricks.py\u001b[0m in \u001b[0;36m_broadcast_shape\u001b[0;34m(*args)\u001b[0m\n\u001b[1;32m    189\u001b[0m     \u001b[0;31m# use the old-iterator because np.nditer does not handle size 0 arrays\u001b[0m\u001b[0;34m\u001b[0m\u001b[0;34m\u001b[0m\u001b[0;34m\u001b[0m\u001b[0m\n\u001b[1;32m    190\u001b[0m     \u001b[0;31m# consistently\u001b[0m\u001b[0;34m\u001b[0m\u001b[0;34m\u001b[0m\u001b[0;34m\u001b[0m\u001b[0m\n\u001b[0;32m--> 191\u001b[0;31m     \u001b[0mb\u001b[0m \u001b[0;34m=\u001b[0m \u001b[0mnp\u001b[0m\u001b[0;34m.\u001b[0m\u001b[0mbroadcast\u001b[0m\u001b[0;34m(\u001b[0m\u001b[0;34m*\u001b[0m\u001b[0margs\u001b[0m\u001b[0;34m[\u001b[0m\u001b[0;34m:\u001b[0m\u001b[0;36m32\u001b[0m\u001b[0;34m]\u001b[0m\u001b[0;34m)\u001b[0m\u001b[0;34m\u001b[0m\u001b[0;34m\u001b[0m\u001b[0m\n\u001b[0m\u001b[1;32m    192\u001b[0m     \u001b[0;31m# unfortunately, it cannot handle 32 or more arguments directly\u001b[0m\u001b[0;34m\u001b[0m\u001b[0;34m\u001b[0m\u001b[0;34m\u001b[0m\u001b[0m\n\u001b[1;32m    193\u001b[0m     \u001b[0;32mfor\u001b[0m \u001b[0mpos\u001b[0m \u001b[0;32min\u001b[0m \u001b[0mrange\u001b[0m\u001b[0;34m(\u001b[0m\u001b[0;36m32\u001b[0m\u001b[0;34m,\u001b[0m \u001b[0mlen\u001b[0m\u001b[0;34m(\u001b[0m\u001b[0margs\u001b[0m\u001b[0;34m)\u001b[0m\u001b[0;34m,\u001b[0m \u001b[0;36m31\u001b[0m\u001b[0;34m)\u001b[0m\u001b[0;34m:\u001b[0m\u001b[0;34m\u001b[0m\u001b[0;34m\u001b[0m\u001b[0m\n",
      "\u001b[0;31mValueError\u001b[0m: shape mismatch: objects cannot be broadcast to a single shape"
     ]
    },
    {
     "data": {
      "image/png": "[encoded data removed]",
      "text/plain": [
       "<Figure size 432x288 with 1 Axes>"
      ]
     },
     "metadata": {
      "needs_background": "light"
     },
     "output_type": "display_data"
    }
   ],
   "source": [
    "squamish.plot.plot_importances(rel_interval)"
   ]
  },
  {
   "cell_type": "code",
   "execution_count": null,
   "metadata": {},
   "outputs": [],
   "source": []
  }
 ],
 "metadata": {
  "kernelspec": {
   "display_name": "Python 3",
   "language": "python",
   "name": "python3"
  },
  "language_info": {
   "codemirror_mode": {
    "name": "ipython",
    "version": 3
   },
   "file_extension": ".py",
   "mimetype": "text/x-python",
   "name": "python",
   "nbconvert_exporter": "python",
   "pygments_lexer": "ipython3",
   "version": "3.7.5"
  }
 },
 "nbformat": 4,
 "nbformat_minor": 4
}
