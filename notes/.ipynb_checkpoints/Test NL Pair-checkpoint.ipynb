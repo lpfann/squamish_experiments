{
 "cells": [
  {
   "cell_type": "code",
   "execution_count": 1,
   "metadata": {
    "ExecuteTime": {
     "end_time": "2020-03-05T14:01:37.616021Z",
     "start_time": "2020-03-05T14:01:37.599691Z"
    }
   },
   "outputs": [],
   "source": [
    "%load_ext autoreload\n",
    "%autoreload 2"
   ]
  },
  {
   "cell_type": "code",
   "execution_count": 69,
   "metadata": {
    "ExecuteTime": {
     "end_time": "2020-03-05T14:44:43.740100Z",
     "start_time": "2020-03-05T14:44:43.702243Z"
    }
   },
   "outputs": [],
   "source": [
    "import numpy as np\n",
    "\n",
    "state = np.random.RandomState(123)\n",
    "\n",
    "c = 1.54\n",
    "\n",
    "n = 1000\n",
    "\n",
    "x0 = state.normal(size=n)\n",
    "x1 = list(map(lambda x: x if abs(x) <= c else -x,x0))\n",
    "\n",
    "y_pair = np.abs(x0) > c\n",
    "\n",
    "x2 = y_pair\n",
    "\n",
    "x3 = state.normal(size=n)\n",
    "#x4 = x3\n",
    "\n",
    "noise = state.normal(size=(1,n))\n",
    "\n",
    "y = y_pair+0.3*x3 > 0\n",
    "X = np.vstack([x0,x1,x2,x3,noise]).T"
   ]
  },
  {
   "cell_type": "code",
   "execution_count": 161,
   "metadata": {},
   "outputs": [],
   "source": [
    "import numpy as np\n",
    "\n",
    "state = np.random.RandomState(123)\n",
    "\n",
    "\n",
    "n = 1000\n",
    "\n",
    "x0 = state.normal(size=n)\n",
    "x1 = x0\n",
    "x2 = x0\n",
    "\n",
    "x3 = state.normal(size=n)\n",
    "x4 = x3\n",
    "\n",
    "noise = state.normal(size=(1,n))\n",
    "\n",
    "y = x0+x3 > 0\n",
    "X = np.vstack([x0,x1,x2,x3,x4,noise]).T"
   ]
  },
  {
   "cell_type": "code",
   "execution_count": 162,
   "metadata": {
    "ExecuteTime": {
     "end_time": "2020-03-05T14:44:43.944255Z",
     "start_time": "2020-03-05T14:44:43.907340Z"
    }
   },
   "outputs": [
    {
     "data": {
      "text/plain": [
       "(1000, 6)"
      ]
     },
     "execution_count": 162,
     "metadata": {},
     "output_type": "execute_result"
    }
   ],
   "source": [
    "X.shape"
   ]
  },
  {
   "cell_type": "code",
   "execution_count": 163,
   "metadata": {
    "ExecuteTime": {
     "end_time": "2020-03-05T14:44:45.628747Z",
     "start_time": "2020-03-05T14:44:45.454563Z"
    }
   },
   "outputs": [
    {
     "name": "stderr",
     "output_type": "stream",
     "text": [
      "matplotlib.pyplot - DEBUG - Loaded backend module://ipykernel.pylab.backend_inline version unknown.\n"
     ]
    },
    {
     "data": {
      "text/plain": [
       "<matplotlib.collections.PathCollection at 0x14f6dee16c8>"
      ]
     },
     "execution_count": 163,
     "metadata": {},
     "output_type": "execute_result"
    },
    {
     "data": {
      "image/png": "[encoded data removed]",
      "text/plain": [
       "<Figure size 360x360 with 1 Axes>"
      ]
     },
     "metadata": {
      "needs_background": "light"
     },
     "output_type": "display_data"
    }
   ],
   "source": [
    "import matplotlib.pyplot as plt\n",
    "%matplotlib inline\n",
    "plt.figure(figsize=(5,5))\n",
    "plt.scatter(x0,x1,c=y,marker=\".\")"
   ]
  },
  {
   "cell_type": "code",
   "execution_count": 164,
   "metadata": {
    "ExecuteTime": {
     "end_time": "2020-03-05T14:44:47.641922Z",
     "start_time": "2020-03-05T14:44:47.621055Z"
    }
   },
   "outputs": [],
   "source": [
    "import logging, sys\n",
    "# Create logger\n",
    "logger = logging.getLogger()\n",
    "logger.setLevel(logging.DEBUG)\n",
    "\n",
    "# Create STDERR handler\n",
    "handler = logging.StreamHandler(sys.stderr)\n",
    "# ch.setLevel(logging.DEBUG)\n",
    "\n",
    "# Create formatter and add it to the handler\n",
    "formatter = logging.Formatter('%(name)s - %(levelname)s - %(message)s')\n",
    "handler.setFormatter(formatter)\n",
    "\n",
    "# Set STDERR handler as the only handler \n",
    "logger.handlers = [handler]"
   ]
  },
  {
   "cell_type": "code",
   "execution_count": 165,
   "metadata": {
    "ExecuteTime": {
     "end_time": "2020-03-05T14:54:03.121057Z",
     "start_time": "2020-03-05T14:53:45.555809Z"
    }
   },
   "outputs": [
    {
     "name": "stderr",
     "output_type": "stream",
     "text": [
      "squamish.main - DEBUG - RF score 0.9690346758668966\n",
      "squamish.main - DEBUG - importances [1714.58610258  758.79060255    0.         2178.44643665  204.2392015\n",
      "   54.55558375]\n"
     ]
    },
    {
     "name": "stdout",
     "output_type": "stream",
     "text": [
      "Finished loading model, total used 100 iterations\n",
      "Finished loading model, total used 100 iterations\n"
     ]
    },
    {
     "name": "stderr",
     "output_type": "stream",
     "text": [
      "squamish.stat - DEBUG - Shadow Bounds:(4.7587217466237774, 77.21090179351515)\n",
      "squamish.main - DEBUG - Features from Boruta: [0 1 2 3 4]\n",
      "squamish.main - DEBUG - Features from RF: [0 1 3 4]\n",
      "squamish.algorithm - DEBUG - predetermined weakly [2]\n",
      "squamish.algorithm - DEBUG - score bounds: (1.0, 1.0)\n",
      "squamish.algorithm - DEBUG - ------------------- Feature f:0\n",
      "squamish.algorithm - DEBUG - score without 0: 1.0\n",
      "squamish.algorithm - DEBUG - removal_score:1.0-> W\n",
      "squamish.algorithm - DEBUG - [(2276.541468129752, 2368.809687458172), (131.66244193152184, 156.2910342691312), (0.0, 0.0), (2037.9531073771, 2120.000408714284), (264.3612146499162, 317.2846215393208), (25.289333214724753, 68.89911863614783)]\n",
      "squamish.algorithm - DEBUG - [0.         0.10705165 1.         0.62169663 0.81366875 0.        ]\n",
      "squamish.algorithm - DEBUG - [1.         0.06198745 0.         0.89507841 0.12521031 0.02027585]\n",
      "squamish.algorithm - DEBUG - [ 0.          0.0450642   1.         -0.27338178  0.68845845 -0.02027585]\n",
      "squamish.algorithm - DEBUG - [1 2 4]\n",
      "squamish.algorithm - DEBUG - ------------------- Feature f:1\n",
      "squamish.algorithm - DEBUG - score without 1: 1.0\n",
      "squamish.algorithm - DEBUG - removal_score:1.0-> W\n",
      "squamish.algorithm - DEBUG - [(2276.541468129752, 2368.809687458172), (131.66244193152184, 156.2910342691312), (0.0, 0.0), (2037.9531073771, 2120.000408714284), (264.3612146499162, 317.2846215393208), (25.289333214724753, 68.89911863614783)]\n",
      "squamish.algorithm - DEBUG - [0.61606975 0.         0.17475759 1.         0.89469107 0.        ]\n",
      "squamish.algorithm - DEBUG - [1.         0.06198745 0.         0.89507841 0.12521031 0.02027585]\n",
      "squamish.algorithm - DEBUG - [-0.38393025  0.          0.17475759  0.10492159  0.76948077 -0.02027585]\n",
      "squamish.algorithm - DEBUG - [2 3 4]\n",
      "squamish.algorithm - DEBUG - ------------------- Feature f:3\n",
      "squamish.algorithm - DEBUG - score without 3: 1.0\n",
      "squamish.algorithm - DEBUG - removal_score:1.0-> W\n",
      "squamish.algorithm - DEBUG - [(2276.541468129752, 2368.809687458172), (131.66244193152184, 156.2910342691312), (0.0, 0.0), (2037.9531073771, 2120.000408714284), (264.3612146499162, 317.2846215393208), (25.289333214724753, 68.89911863614783)]\n",
      "squamish.algorithm - DEBUG - [0.47683357 1.         0.78860327 0.         0.243906   0.        ]\n",
      "squamish.algorithm - DEBUG - [1.         0.06198745 0.         0.89507841 0.12521031 0.02027585]\n",
      "squamish.algorithm - DEBUG - [-0.52316643  0.93801255  0.78860327  0.          0.11869569 -0.02027585]\n",
      "squamish.algorithm - DEBUG - [1 2 4]\n",
      "squamish.algorithm - DEBUG - ------------------- Feature f:4\n",
      "squamish.algorithm - DEBUG - score without 4: 1.0\n",
      "squamish.algorithm - DEBUG - removal_score:1.0-> W\n",
      "squamish.algorithm - DEBUG - [(2276.541468129752, 2368.809687458172), (131.66244193152184, 156.2910342691312), (0.0, 0.0), (2037.9531073771, 2120.000408714284), (264.3612146499162, 317.2846215393208), (25.289333214724753, 68.89911863614783)]\n",
      "squamish.algorithm - DEBUG - [0.30379355 0.49846142 0.37874257 1.         0.         0.        ]\n",
      "squamish.algorithm - DEBUG - [1.         0.06198745 0.         0.89507841 0.12521031 0.02027585]\n",
      "squamish.algorithm - DEBUG - [-0.69620645  0.43647397  0.37874257  0.10492159  0.         -0.02027585]\n",
      "squamish.algorithm - DEBUG - [1 2 3]\n",
      "squamish.algorithm - DEBUG - Related: {0: [1, 2, 4], 1: [2, 3, 4], 3: [1, 2, 4], 4: [1, 2, 3]}\n",
      "squamish.algorithm - DEBUG - S: []\n",
      "squamish.algorithm - DEBUG - W: [2, 0, 1, 3, 4]\n",
      "squamish.main - INFO - Relevance Classes: [1 1 1 1 1 0]\n"
     ]
    }
   ],
   "source": [
    "import squamish\n",
    "from sklearn.preprocessing import scale\n",
    "\n",
    "model = squamish.Main(debug=True,fpr=1e-6,n_resampling=100,random_state=state,n_jobs=6)\n",
    "X = scale(X)\n",
    "model.fit(X,y)"
   ]
  },
  {
   "cell_type": "code",
   "execution_count": 166,
   "metadata": {},
   "outputs": [],
   "source": [
    "debug_imps= model.fsorter.debug_f_imps"
   ]
  },
  {
   "cell_type": "code",
   "execution_count": 153,
   "metadata": {},
   "outputs": [
    {
     "data": {
      "text/plain": [
       "{0: [(1, 3.027190104648244e-10), (2, 2919.6373069359734)],\n",
       " 1: [(0, 3135.788977328159), (2, 8.278351962239095e-08)]}"
      ]
     },
     "execution_count": 153,
     "metadata": {},
     "output_type": "execute_result"
    }
   ],
   "source": [
    "debug_imps"
   ]
  },
  {
   "cell_type": "code",
   "execution_count": 90,
   "metadata": {
    "ExecuteTime": {
     "end_time": "2020-03-05T14:50:45.023418Z",
     "start_time": "2020-03-05T14:50:44.897800Z"
    }
   },
   "outputs": [
    {
     "data": {
      "text/plain": [
       "<matplotlib.axes._subplots.AxesSubplot at 0x14f6c34d188>"
      ]
     },
     "execution_count": 90,
     "metadata": {},
     "output_type": "execute_result"
    },
    {
     "data": {
      "image/png": "[encoded data removed]",
      "text/plain": [
       "<Figure size 432x288 with 1 Axes>"
      ]
     },
     "metadata": {
      "needs_background": "light"
     },
     "output_type": "display_data"
    }
   ],
   "source": [
    "import seaborn as sns\n",
    "imps = model.rfmodel.importances()\n",
    "sns.barplot(x=np.arange(len(imps)),y=imps)"
   ]
  },
  {
   "cell_type": "code",
   "execution_count": 91,
   "metadata": {},
   "outputs": [
    {
     "data": {
      "text/plain": [
       "array([13769.0740712 , 10083.47046898, 10360.00044604,   460.03949159])"
      ]
     },
     "execution_count": 91,
     "metadata": {},
     "output_type": "execute_result"
    }
   ],
   "source": [
    "imps"
   ]
  },
  {
   "cell_type": "code",
   "execution_count": 92,
   "metadata": {},
   "outputs": [],
   "source": [
    "from sklearn.preprocessing import normalize,minmax_scale"
   ]
  },
  {
   "cell_type": "code",
   "execution_count": 93,
   "metadata": {},
   "outputs": [
    {
     "data": {
      "text/plain": [
       "array([1.        , 0.72307506, 0.74385267, 0.        ])"
      ]
     },
     "execution_count": 93,
     "metadata": {},
     "output_type": "execute_result"
    }
   ],
   "source": [
    "minmax_scale(imps)"
   ]
  },
  {
   "cell_type": "code",
   "execution_count": 94,
   "metadata": {},
   "outputs": [
    {
     "data": {
      "text/plain": [
       "[(1, 1773.9053859608248), (2, 11348.137396603357)]"
      ]
     },
     "execution_count": 94,
     "metadata": {},
     "output_type": "execute_result"
    }
   ],
   "source": [
    "debug_imps[0]"
   ]
  },
  {
   "cell_type": "code",
   "execution_count": 113,
   "metadata": {},
   "outputs": [
    {
     "data": {
      "text/plain": [
       "<squamish.stat.Stats at 0x14f6c669648>"
      ]
     },
     "execution_count": 113,
     "metadata": {},
     "output_type": "execute_result"
    }
   ],
   "source": [
    "model.stat_"
   ]
  },
  {
   "cell_type": "code",
   "execution_count": 111,
   "metadata": {},
   "outputs": [
    {
     "data": {
      "text/plain": [
       "array([22082.1260925 ,  4323.49911517, 19152.59283122,   275.8467954 ])"
      ]
     },
     "execution_count": 111,
     "metadata": {},
     "output_type": "execute_result"
    }
   ],
   "source": [
    "np.mean(model.stat_.imp_stat,1)"
   ]
  },
  {
   "cell_type": "code",
   "execution_count": 112,
   "metadata": {},
   "outputs": [
    {
     "name": "stdout",
     "output_type": "stream",
     "text": [
      "##########################################################################################\n",
      "Feature 0\n",
      "[(1, 1773.9053859608248), (2, 11348.137396603357)]\n"
     ]
    },
    {
     "data": {
      "image/png": "[encoded data removed]",
      "text/plain": [
       "<Figure size 432x288 with 1 Axes>"
      ]
     },
     "metadata": {
      "needs_background": "light"
     },
     "output_type": "display_data"
    },
    {
     "data": {
      "image/png": "[encoded data removed]",
      "text/plain": [
       "<Figure size 432x288 with 1 Axes>"
      ]
     },
     "metadata": {
      "needs_background": "light"
     },
     "output_type": "display_data"
    },
    {
     "name": "stdout",
     "output_type": "stream",
     "text": [
      "##########################################################################################\n",
      "Feature 1\n",
      "[(0, 9757.002016967192), (2, 1908.99020378344)]\n"
     ]
    },
    {
     "data": {
      "image/png": "[encoded data removed]",
      "text/plain": [
       "<Figure size 432x288 with 1 Axes>"
      ]
     },
     "metadata": {
      "needs_background": "light"
     },
     "output_type": "display_data"
    },
    {
     "data": {
      "image/png": "[encoded data removed]",
      "text/plain": [
       "<Figure size 432x288 with 1 Axes>"
      ]
     },
     "metadata": {
      "needs_background": "light"
     },
     "output_type": "display_data"
    },
    {
     "name": "stdout",
     "output_type": "stream",
     "text": [
      "##########################################################################################\n",
      "Feature 2\n",
      "[(0, 9421.253111609753), (1, 11364.688952279743)]\n"
     ]
    },
    {
     "data": {
      "image/png": "[encoded data removed]",
      "text/plain": [
       "<Figure size 432x288 with 1 Axes>"
      ]
     },
     "metadata": {
      "needs_background": "light"
     },
     "output_type": "display_data"
    },
    {
     "data": {
      "image/png": "[encoded data removed]",
      "text/plain": [
       "<Figure size 432x288 with 1 Axes>"
      ]
     },
     "metadata": {
      "needs_background": "light"
     },
     "output_type": "display_data"
    }
   ],
   "source": [
    "for i,i_imps in debug_imps.items():\n",
    "    print(\"#\"*90)\n",
    "    print(f\"Feature {i}\")\n",
    "    loc_imp = np.zeros(len(imps))\n",
    "    print(i_imps)\n",
    "    for val in i_imps:\n",
    "        loc_imp[val[0]] = val[1]\n",
    "    #sns.barplot(x=np.arange(len(loc_imp)),y=minmax_scale(loc_imp))\n",
    "\n",
    "    diff = loc_imp - imps\n",
    "    diff[i] = 0\n",
    "    sns.barplot(x=np.arange(len(loc_imp)),y=diff)\n",
    "    plt.show()\n",
    "    \n",
    "    scaled_diff = minmax_scale(loc_imp) -   minmax_scale(imps)\n",
    "    scaled_diff[i] = 0\n",
    "    sns.barplot(x=np.arange(len(loc_imp)),y=scaled_diff)\n",
    "    plt.show()"
   ]
  },
  {
   "cell_type": "code",
   "execution_count": 9,
   "metadata": {},
   "outputs": [],
   "source": [
    "changes = model.stat_.d_imp_changes"
   ]
  },
  {
   "cell_type": "code",
   "execution_count": 10,
   "metadata": {},
   "outputs": [],
   "source": [
    "scores = model.stat_.d_scores"
   ]
  },
  {
   "cell_type": "code",
   "execution_count": 96,
   "metadata": {},
   "outputs": [],
   "source": [
    "import pandas as pd"
   ]
  },
  {
   "cell_type": "code",
   "execution_count": 97,
   "metadata": {},
   "outputs": [],
   "source": [
    "series = []\n",
    "for i in range(len(changes)):\n",
    "    s =pd.DataFrame(changes[i]).mean()\n",
    "    series.append(s)\n"
   ]
  },
  {
   "cell_type": "code",
   "execution_count": 98,
   "metadata": {},
   "outputs": [],
   "source": [
    "combined = pd.DataFrame(series)"
   ]
  },
  {
   "cell_type": "code",
   "execution_count": 99,
   "metadata": {},
   "outputs": [],
   "source": [
    "normal_imps = model.rfmodel.importances()"
   ]
  },
  {
   "cell_type": "code",
   "execution_count": 109,
   "metadata": {},
   "outputs": [],
   "source": [
    "diff_to_normal = np.abs(combined - normal_imps)"
   ]
  },
  {
   "cell_type": "code",
   "execution_count": 110,
   "metadata": {},
   "outputs": [
    {
     "data": {
      "text/plain": [
       "<matplotlib.axes._subplots.AxesSubplot at 0x1fcd5771608>"
      ]
     },
     "execution_count": 110,
     "metadata": {},
     "output_type": "execute_result"
    },
    {
     "data": {
      "image/png": "[encoded data removed]",
      "text/plain": [
       "<Figure size 432x288 with 1 Axes>"
      ]
     },
     "metadata": {
      "needs_background": "light"
     },
     "output_type": "display_data"
    }
   ],
   "source": [
    "combined.T.plot(kind=\"bar\")"
   ]
  },
  {
   "cell_type": "code",
   "execution_count": 111,
   "metadata": {},
   "outputs": [
    {
     "data": {
      "text/html": [
       "<div>\n",
       "<style scoped>\n",
       "    .dataframe tbody tr th:only-of-type {\n",
       "        vertical-align: middle;\n",
       "    }\n",
       "\n",
       "    .dataframe tbody tr th {\n",
       "        vertical-align: top;\n",
       "    }\n",
       "\n",
       "    .dataframe thead th {\n",
       "        text-align: right;\n",
       "    }\n",
       "</style>\n",
       "<table border=\"1\" class=\"dataframe\">\n",
       "  <thead>\n",
       "    <tr style=\"text-align: right;\">\n",
       "      <th></th>\n",
       "      <th>0</th>\n",
       "      <th>1</th>\n",
       "      <th>2</th>\n",
       "      <th>3</th>\n",
       "    </tr>\n",
       "  </thead>\n",
       "  <tbody>\n",
       "    <tr>\n",
       "      <th>0</th>\n",
       "      <td>2.499950e+03</td>\n",
       "      <td>2500.063888</td>\n",
       "      <td>0.000000</td>\n",
       "      <td>9.814388e-15</td>\n",
       "    </tr>\n",
       "    <tr>\n",
       "      <th>1</th>\n",
       "      <td>6.623194e+03</td>\n",
       "      <td>6750.260915</td>\n",
       "      <td>0.000000</td>\n",
       "      <td>2.355820e-01</td>\n",
       "    </tr>\n",
       "    <tr>\n",
       "      <th>2</th>\n",
       "      <td>2.034042e+04</td>\n",
       "      <td>33292.324210</td>\n",
       "      <td>54299.633179</td>\n",
       "      <td>1.676675e+00</td>\n",
       "    </tr>\n",
       "    <tr>\n",
       "      <th>3</th>\n",
       "      <td>9.094947e-13</td>\n",
       "      <td>0.000000</td>\n",
       "      <td>0.000000</td>\n",
       "      <td>8.947602e-15</td>\n",
       "    </tr>\n",
       "  </tbody>\n",
       "</table>\n",
       "</div>"
      ],
      "text/plain": [
       "              0             1             2             3\n",
       "0  2.499950e+03   2500.063888      0.000000  9.814388e-15\n",
       "1  6.623194e+03   6750.260915      0.000000  2.355820e-01\n",
       "2  2.034042e+04  33292.324210  54299.633179  1.676675e+00\n",
       "3  9.094947e-13      0.000000      0.000000  8.947602e-15"
      ]
     },
     "execution_count": 111,
     "metadata": {},
     "output_type": "execute_result"
    }
   ],
   "source": [
    "diff_to_normal"
   ]
  },
  {
   "cell_type": "code",
   "execution_count": 112,
   "metadata": {},
   "outputs": [
    {
     "data": {
      "text/plain": [
       "<matplotlib.axes._subplots.AxesSubplot at 0x1fcd5809108>"
      ]
     },
     "execution_count": 112,
     "metadata": {},
     "output_type": "execute_result"
    },
    {
     "data": {
      "image/png": "[encoded data removed]",
      "text/plain": [
       "<Figure size 432x288 with 1 Axes>"
      ]
     },
     "metadata": {
      "needs_background": "light"
     },
     "output_type": "display_data"
    }
   ],
   "source": [
    "diff_to_normal.plot(kind=\"bar\")"
   ]
  },
  {
   "cell_type": "code",
   "execution_count": 21,
   "metadata": {},
   "outputs": [
    {
     "data": {
      "text/plain": [
       "<matplotlib.axes._subplots.AxesSubplot at 0x1fcd1b8f408>"
      ]
     },
     "execution_count": 21,
     "metadata": {},
     "output_type": "execute_result"
    },
    {
     "data": {
      "image/png": "[encoded data removed]",
      "text/plain": [
       "<Figure size 432x288 with 1 Axes>"
      ]
     },
     "metadata": {
      "needs_background": "light"
     },
     "output_type": "display_data"
    }
   ],
   "source": [
    "pd.DataFrame(changes[2]).plot(kind=\"box\",logy=True)"
   ]
  },
  {
   "cell_type": "markdown",
   "metadata": {
    "ExecuteTime": {
     "end_time": "2020-03-05T13:37:57.530327Z",
     "start_time": "2020-03-05T13:37:57.501360Z"
    },
    "heading_collapsed": true
   },
   "source": [
    "# analyse importance threshold depending on input features\n",
    "\n",
    "without scaling the shadow samples are not normal distributed \n",
    "\n",
    "-> leads to meany false positives in feature classification"
   ]
  },
  {
   "cell_type": "code",
   "execution_count": 8,
   "metadata": {
    "ExecuteTime": {
     "end_time": "2020-03-05T14:02:15.562849Z",
     "start_time": "2020-03-05T14:02:15.519715Z"
    },
    "hidden": true
   },
   "outputs": [],
   "source": [
    "samps = model.stat_.shadow_importance_samples"
   ]
  },
  {
   "cell_type": "code",
   "execution_count": 9,
   "metadata": {
    "ExecuteTime": {
     "end_time": "2020-03-05T13:37:28.447267Z",
     "start_time": "2020-03-05T13:37:28.283727Z"
    },
    "hidden": true
   },
   "outputs": [
    {
     "data": {
      "text/plain": [
       "<matplotlib.axes._subplots.AxesSubplot at 0x2b41802a348>"
      ]
     },
     "execution_count": 9,
     "metadata": {},
     "output_type": "execute_result"
    },
    {
     "data": {
      "image/png": "[encoded data removed]",
      "text/plain": [
       "<Figure size 432x288 with 1 Axes>"
      ]
     },
     "metadata": {
      "needs_background": "light"
     },
     "output_type": "display_data"
    }
   ],
   "source": [
    "sns.distplot(samps)"
   ]
  },
  {
   "cell_type": "code",
   "execution_count": 10,
   "metadata": {
    "ExecuteTime": {
     "end_time": "2020-03-05T13:37:29.538278Z",
     "start_time": "2020-03-05T13:37:29.516962Z"
    },
    "hidden": true
   },
   "outputs": [
    {
     "data": {
      "text/plain": [
       "10.925336763262749"
      ]
     },
     "execution_count": 10,
     "metadata": {},
     "output_type": "execute_result"
    }
   ],
   "source": [
    "np.max(samps)"
   ]
  },
  {
   "cell_type": "code",
   "execution_count": 11,
   "metadata": {
    "ExecuteTime": {
     "end_time": "2020-03-05T13:36:14.149101Z",
     "start_time": "2020-03-05T13:36:14.130578Z"
    },
    "hidden": true
   },
   "outputs": [],
   "source": [
    "from squamish.stat import _create_probe_statistic"
   ]
  },
  {
   "cell_type": "code",
   "execution_count": 12,
   "metadata": {
    "ExecuteTime": {
     "end_time": "2020-03-05T13:36:42.696415Z",
     "start_time": "2020-03-05T13:36:42.665138Z"
    },
    "hidden": true
   },
   "outputs": [
    {
     "data": {
      "text/plain": [
       "(-9.363162962016322, 10.975216522332886)"
      ]
     },
     "execution_count": 12,
     "metadata": {},
     "output_type": "execute_result"
    }
   ],
   "source": [
    "_create_probe_statistic(samps,1e-6)"
   ]
  },
  {
   "cell_type": "code",
   "execution_count": 13,
   "metadata": {
    "ExecuteTime": {
     "end_time": "2020-03-05T13:36:22.662474Z",
     "start_time": "2020-03-05T13:36:22.623750Z"
    },
    "hidden": true
   },
   "outputs": [
    {
     "data": {
      "text/plain": [
       "(-9.363162962016322, 10.975216522332886)"
      ]
     },
     "execution_count": 13,
     "metadata": {},
     "output_type": "execute_result"
    }
   ],
   "source": [
    "model.stat_.shadow_stat"
   ]
  },
  {
   "cell_type": "code",
   "execution_count": 14,
   "metadata": {
    "ExecuteTime": {
     "end_time": "2020-03-05T13:36:30.617771Z",
     "start_time": "2020-03-05T13:36:30.596593Z"
    },
    "hidden": true
   },
   "outputs": [
    {
     "data": {
      "text/plain": [
       "array([ True,  True,  True,  True,  True, False])"
      ]
     },
     "execution_count": 14,
     "metadata": {},
     "output_type": "execute_result"
    }
   ],
   "source": [
    "model.rfmodel.importances()> np.max(samps)"
   ]
  },
  {
   "cell_type": "code",
   "execution_count": 422,
   "metadata": {
    "ExecuteTime": {
     "end_time": "2020-03-05T13:36:31.039391Z",
     "start_time": "2020-03-05T13:36:31.011824Z"
    },
    "hidden": true
   },
   "outputs": [
    {
     "data": {
      "text/plain": [
       "54.63547718524933"
      ]
     },
     "execution_count": 422,
     "metadata": {},
     "output_type": "execute_result"
    }
   ],
   "source": [
    "np.max(imps[5:])"
   ]
  },
  {
   "cell_type": "code",
   "execution_count": 395,
   "metadata": {
    "ExecuteTime": {
     "end_time": "2020-03-05T13:22:50.319699Z",
     "start_time": "2020-03-05T13:22:50.299196Z"
    },
    "hidden": true
   },
   "outputs": [
    {
     "data": {
      "text/plain": [
       "array([2, 2, 1, 1, 1, 0, 0, 0, 0, 0])"
      ]
     },
     "execution_count": 395,
     "metadata": {},
     "output_type": "execute_result"
    }
   ],
   "source": [
    "model.relevance_classes_"
   ]
  },
  {
   "cell_type": "markdown",
   "metadata": {},
   "source": [
    "# Graph"
   ]
  },
  {
   "cell_type": "code",
   "execution_count": 554,
   "metadata": {
    "ExecuteTime": {
     "end_time": "2020-03-05T14:50:47.496576Z",
     "start_time": "2020-03-05T14:50:47.466664Z"
    },
    "scrolled": true
   },
   "outputs": [
    {
     "data": {
      "text/plain": [
       "{0: [], 2: [], 3: [], 4: []}"
      ]
     },
     "execution_count": 554,
     "metadata": {},
     "output_type": "execute_result"
    }
   ],
   "source": [
    "model.relations_"
   ]
  },
  {
   "cell_type": "code",
   "execution_count": 555,
   "metadata": {
    "ExecuteTime": {
     "end_time": "2020-03-05T14:50:47.938312Z",
     "start_time": "2020-03-05T14:50:47.899155Z"
    }
   },
   "outputs": [],
   "source": [
    "import networkx as nx"
   ]
  },
  {
   "cell_type": "code",
   "execution_count": 556,
   "metadata": {
    "ExecuteTime": {
     "end_time": "2020-03-05T14:50:48.082447Z",
     "start_time": "2020-03-05T14:50:48.050922Z"
    }
   },
   "outputs": [],
   "source": [
    "g = nx.Graph(model.relations_)"
   ]
  },
  {
   "cell_type": "code",
   "execution_count": 557,
   "metadata": {
    "ExecuteTime": {
     "end_time": "2020-03-05T14:50:48.443125Z",
     "start_time": "2020-03-05T14:50:48.271672Z"
    }
   },
   "outputs": [
    {
     "data": {
      "image/png": "[encoded data removed]",
      "text/plain": [
       "<Figure size 432x288 with 1 Axes>"
      ]
     },
     "metadata": {},
     "output_type": "display_data"
    }
   ],
   "source": [
    "nx.draw(g,with_labels=True)"
   ]
  },
  {
   "cell_type": "code",
   "execution_count": 558,
   "metadata": {
    "ExecuteTime": {
     "end_time": "2020-03-05T14:50:50.675743Z",
     "start_time": "2020-03-05T14:50:50.634930Z"
    }
   },
   "outputs": [],
   "source": [
    "imps = model.stat_.imp_stat"
   ]
  },
  {
   "cell_type": "code",
   "execution_count": 559,
   "metadata": {
    "ExecuteTime": {
     "end_time": "2020-03-05T14:50:51.020300Z",
     "start_time": "2020-03-05T14:50:50.998026Z"
    }
   },
   "outputs": [
    {
     "data": {
      "text/plain": [
       "[(-4918.555561299697, 7143.435542139438),\n",
       " (-1795.4598823944661, 2581.0131922470464),\n",
       " (-3940.6038567346013, 11933.17506530699),\n",
       " (-59838.61829018101, 127995.99797036618),\n",
       " (-69156.19880041215, 103043.69077609022)]"
      ]
     },
     "execution_count": 559,
     "metadata": {},
     "output_type": "execute_result"
    }
   ],
   "source": [
    "imps"
   ]
  },
  {
   "cell_type": "code",
   "execution_count": 560,
   "metadata": {
    "ExecuteTime": {
     "end_time": "2020-03-05T14:50:55.621975Z",
     "start_time": "2020-03-05T14:50:55.600857Z"
    }
   },
   "outputs": [
    {
     "data": {
      "text/plain": [
       "array([[ 12061.99110344],\n",
       "       [  4376.47307464],\n",
       "       [ 15873.77892204],\n",
       "       [187834.61626055],\n",
       "       [172199.8895765 ]])"
      ]
     },
     "execution_count": 560,
     "metadata": {},
     "output_type": "execute_result"
    }
   ],
   "source": [
    "np.diff(imps,axis=1)"
   ]
  },
  {
   "cell_type": "code",
   "execution_count": null,
   "metadata": {},
   "outputs": [],
   "source": []
  }
 ],
 "metadata": {
  "kernelspec": {
   "display_name": "Python 3",
   "language": "python",
   "name": "python3"
  },
  "language_info": {
   "codemirror_mode": {
    "name": "ipython",
    "version": 3
   },
   "file_extension": ".py",
   "mimetype": "text/x-python",
   "name": "python",
   "nbconvert_exporter": "python",
   "pygments_lexer": "ipython3",
   "version": "3.7.6"
  }
 },
 "nbformat": 4,
 "nbformat_minor": 4
}
