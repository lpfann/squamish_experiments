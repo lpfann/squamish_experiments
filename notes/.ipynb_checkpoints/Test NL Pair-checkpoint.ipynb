{
 "cells": [
  {
   "cell_type": "code",
   "execution_count": 451,
   "metadata": {
    "ExecuteTime": {
     "end_time": "2020-03-05T14:01:37.616021Z",
     "start_time": "2020-03-05T14:01:37.599691Z"
    }
   },
   "outputs": [
    {
     "name": "stdout",
     "output_type": "stream",
     "text": [
      "The autoreload extension is already loaded. To reload it, use:\n",
      "  %reload_ext autoreload\n"
     ]
    }
   ],
   "source": [
    "%load_ext autoreload\n",
    "%autoreload 2"
   ]
  },
  {
   "cell_type": "code",
   "execution_count": 541,
   "metadata": {
    "ExecuteTime": {
     "end_time": "2020-03-05T14:44:43.740100Z",
     "start_time": "2020-03-05T14:44:43.702243Z"
    }
   },
   "outputs": [],
   "source": [
    "import numpy as np\n",
    "\n",
    "state = np.random.RandomState(123)\n",
    "\n",
    "c = 1.54\n",
    "\n",
    "n = 1000\n",
    "\n",
    "x1 = state.normal(size=n)\n",
    "x2 = list(map(lambda x: x if abs(x) <= c else -x,x1))\n",
    "\n",
    "y_pair = np.abs(x1) > c\n",
    "\n",
    "x3 = y_pair\n",
    "\n",
    "x4 = state.normal(size=n)\n",
    "x5 = x4\n",
    "y = y_pair + x4 > 0\n",
    "\n",
    "noise = state.normal(size=(1,n))\n",
    "\n",
    "X = np.vstack([x1,x2,x3,x4,x5, noise]).T"
   ]
  },
  {
   "cell_type": "code",
   "execution_count": 542,
   "metadata": {
    "ExecuteTime": {
     "end_time": "2020-03-05T14:44:43.944255Z",
     "start_time": "2020-03-05T14:44:43.907340Z"
    }
   },
   "outputs": [
    {
     "data": {
      "text/plain": [
       "(1000, 6)"
      ]
     },
     "execution_count": 542,
     "metadata": {},
     "output_type": "execute_result"
    }
   ],
   "source": [
    "X.shape"
   ]
  },
  {
   "cell_type": "code",
   "execution_count": 543,
   "metadata": {
    "ExecuteTime": {
     "end_time": "2020-03-05T14:44:45.628747Z",
     "start_time": "2020-03-05T14:44:45.454563Z"
    }
   },
   "outputs": [
    {
     "name": "stderr",
     "output_type": "stream",
     "text": [
      "matplotlib.pyplot - DEBUG - Loaded backend module://ipykernel.pylab.backend_inline version unknown.\n"
     ]
    },
    {
     "data": {
      "text/plain": [
       "<matplotlib.collections.PathCollection at 0x7f1bdf853210>"
      ]
     },
     "execution_count": 543,
     "metadata": {},
     "output_type": "execute_result"
    },
    {
     "data": {
      "image/png": "[encoded data removed]",
      "text/plain": [
       "<Figure size 360x360 with 1 Axes>"
      ]
     },
     "metadata": {
      "needs_background": "light"
     },
     "output_type": "display_data"
    }
   ],
   "source": [
    "import matplotlib.pyplot as plt\n",
    "%matplotlib inline\n",
    "plt.figure(figsize=(5,5))\n",
    "plt.scatter(x1,x2,c=y,marker=\"x\")"
   ]
  },
  {
   "cell_type": "code",
   "execution_count": 544,
   "metadata": {
    "ExecuteTime": {
     "end_time": "2020-03-05T14:44:47.641922Z",
     "start_time": "2020-03-05T14:44:47.621055Z"
    }
   },
   "outputs": [],
   "source": [
    "import logging, sys\n",
    "# Create logger\n",
    "logger = logging.getLogger()\n",
    "logger.setLevel(logging.DEBUG)\n",
    "\n",
    "# Create STDERR handler\n",
    "handler = logging.StreamHandler(sys.stderr)\n",
    "# ch.setLevel(logging.DEBUG)\n",
    "\n",
    "# Create formatter and add it to the handler\n",
    "formatter = logging.Formatter('%(name)s - %(levelname)s - %(message)s')\n",
    "handler.setFormatter(formatter)\n",
    "\n",
    "# Set STDERR handler as the only handler \n",
    "logger.handlers = [handler]"
   ]
  },
  {
   "cell_type": "code",
   "execution_count": 562,
   "metadata": {
    "ExecuteTime": {
     "end_time": "2020-03-05T14:54:03.121057Z",
     "start_time": "2020-03-05T14:53:45.555809Z"
    },
    "scrolled": false
   },
   "outputs": [
    {
     "name": "stderr",
     "output_type": "stream",
     "text": [
      "squamish.main - DEBUG - RF score 0.976\n",
      "squamish.main - DEBUG - importances [6.86948589e+02 2.12173599e+02 4.66202299e+03 4.54092334e+04\n",
      " 9.34178120e+03 1.42109005e-14]\n"
     ]
    },
    {
     "name": "stdout",
     "output_type": "stream",
     "text": [
      "Finished loading model, total used 100 iterations\n",
      "Finished loading model, total used 100 iterations\n"
     ]
    },
    {
     "name": "stderr",
     "output_type": "stream",
     "text": [
      "squamish.stat - DEBUG - Shadow Bounds:(-8.093272969766748, 10.007409369095456)\n",
      "squamish.main - DEBUG - Features from Boruta: [0 1 2 3 4]\n",
      "squamish.main - DEBUG - Features from RF: [0 1 2 3 4]\n",
      "squamish.algorithm - DEBUG - predetermined weakly []\n",
      "squamish.algorithm - DEBUG - score bounds: (0.9939999999999993, 0.9940000000000004)\n",
      "squamish.algorithm - DEBUG - ------------------- Feature f:0\n",
      "squamish.algorithm - DEBUG - score without 0: 0.99\n",
      "squamish.algorithm - DEBUG - removal_score:0.99-> S\n",
      "squamish.algorithm - DEBUG - ------------------- Feature f:1\n",
      "squamish.algorithm - DEBUG - score without 1: 0.995\n",
      "squamish.algorithm - DEBUG - removal_score:0.995-> W\n",
      "squamish.algorithm - DEBUG - 0: bounds:699.48-699.48: current:2122.88\n",
      "squamish.algorithm - DEBUG - 2: bounds:4725.60-4725.60: current:814.41\n",
      "squamish.algorithm - DEBUG - 3: bounds:45000.24-45011.01: current:1503.44\n",
      "squamish.algorithm - DEBUG - 4: bounds:9888.78-9892.73: current:21144.76\n",
      "squamish.algorithm - DEBUG - ------------------- Feature f:2\n",
      "squamish.algorithm - DEBUG - score without 2: 0.983\n",
      "squamish.algorithm - DEBUG - removal_score:0.983-> S\n",
      "squamish.algorithm - DEBUG - ------------------- Feature f:3\n",
      "squamish.algorithm - DEBUG - score without 3: 0.976\n",
      "squamish.algorithm - DEBUG - removal_score:0.976-> S\n",
      "squamish.algorithm - DEBUG - ------------------- Feature f:4\n",
      "squamish.algorithm - DEBUG - score without 4: 0.976\n",
      "squamish.algorithm - DEBUG - removal_score:0.976-> S\n",
      "squamish.algorithm - DEBUG - Related: {1: []}\n",
      "squamish.algorithm - DEBUG - S: [0, 2, 3, 4]\n",
      "squamish.algorithm - DEBUG - W: [1]\n",
      "squamish.main - INFO - Relevance Classes: [2 1 2 2 2 0]\n"
     ]
    }
   ],
   "source": [
    "import squamish\n",
    "from sklearn.preprocessing import scale\n",
    "\n",
    "model = squamish.Main(debug=True,fpr=1e-6,n_resampling=100,random_state=state)\n",
    "X = scale(X)\n",
    "model.fit(X,y)"
   ]
  },
  {
   "cell_type": "code",
   "execution_count": 553,
   "metadata": {
    "ExecuteTime": {
     "end_time": "2020-03-05T14:50:45.023418Z",
     "start_time": "2020-03-05T14:50:44.897800Z"
    }
   },
   "outputs": [
    {
     "data": {
      "text/plain": [
       "<matplotlib.axes._subplots.AxesSubplot at 0x7f1bdfb48bd0>"
      ]
     },
     "execution_count": 553,
     "metadata": {},
     "output_type": "execute_result"
    },
    {
     "data": {
      "image/png": "[encoded data removed]",
      "text/plain": [
       "<Figure size 432x288 with 1 Axes>"
      ]
     },
     "metadata": {
      "needs_background": "light"
     },
     "output_type": "display_data"
    }
   ],
   "source": [
    "import seaborn as sns\n",
    "imps = model.rfmodel.importances()\n",
    "sns.barplot(x=np.arange(len(imps)),y=imps)"
   ]
  },
  {
   "cell_type": "markdown",
   "metadata": {
    "ExecuteTime": {
     "end_time": "2020-03-05T13:37:57.530327Z",
     "start_time": "2020-03-05T13:37:57.501360Z"
    },
    "heading_collapsed": true
   },
   "source": [
    "# analyse importance threshold depending on input features\n",
    "\n",
    "without scaling the shadow samples are not normal distributed \n",
    "\n",
    "-> leads to meany false positives in feature classification"
   ]
  },
  {
   "cell_type": "code",
   "execution_count": 460,
   "metadata": {
    "ExecuteTime": {
     "end_time": "2020-03-05T14:02:15.562849Z",
     "start_time": "2020-03-05T14:02:15.519715Z"
    },
    "hidden": true
   },
   "outputs": [],
   "source": [
    "samps = model.stat_.shadow_importance_samples"
   ]
  },
  {
   "cell_type": "code",
   "execution_count": 428,
   "metadata": {
    "ExecuteTime": {
     "end_time": "2020-03-05T13:37:28.447267Z",
     "start_time": "2020-03-05T13:37:28.283727Z"
    },
    "hidden": true
   },
   "outputs": [
    {
     "data": {
      "text/plain": [
       "<matplotlib.axes._subplots.AxesSubplot at 0x7f1c1c2e5a90>"
      ]
     },
     "execution_count": 428,
     "metadata": {},
     "output_type": "execute_result"
    },
    {
     "data": {
      "image/png": "[encoded data removed]",
      "text/plain": [
       "<Figure size 432x288 with 1 Axes>"
      ]
     },
     "metadata": {
      "needs_background": "light"
     },
     "output_type": "display_data"
    }
   ],
   "source": [
    "sns.distplot(samps)"
   ]
  },
  {
   "cell_type": "code",
   "execution_count": 429,
   "metadata": {
    "ExecuteTime": {
     "end_time": "2020-03-05T13:37:29.538278Z",
     "start_time": "2020-03-05T13:37:29.516962Z"
    },
    "hidden": true
   },
   "outputs": [
    {
     "data": {
      "text/plain": [
       "21.10531997680664"
      ]
     },
     "execution_count": 429,
     "metadata": {},
     "output_type": "execute_result"
    }
   ],
   "source": [
    "np.max(samps)"
   ]
  },
  {
   "cell_type": "code",
   "execution_count": 418,
   "metadata": {
    "ExecuteTime": {
     "end_time": "2020-03-05T13:36:14.149101Z",
     "start_time": "2020-03-05T13:36:14.130578Z"
    },
    "hidden": true
   },
   "outputs": [],
   "source": [
    "from squamish.stat import _create_probe_statistic"
   ]
  },
  {
   "cell_type": "code",
   "execution_count": 424,
   "metadata": {
    "ExecuteTime": {
     "end_time": "2020-03-05T13:36:42.696415Z",
     "start_time": "2020-03-05T13:36:42.665138Z"
    },
    "hidden": true
   },
   "outputs": [
    {
     "data": {
      "text/plain": [
       "(-36.61658836724308, 55.42071527125388)"
      ]
     },
     "execution_count": 424,
     "metadata": {},
     "output_type": "execute_result"
    }
   ],
   "source": [
    "_create_probe_statistic(samps,1e-6)"
   ]
  },
  {
   "cell_type": "code",
   "execution_count": 420,
   "metadata": {
    "ExecuteTime": {
     "end_time": "2020-03-05T13:36:22.662474Z",
     "start_time": "2020-03-05T13:36:22.623750Z"
    },
    "hidden": true
   },
   "outputs": [
    {
     "data": {
      "text/plain": [
       "(-24.91892166409616, 43.72304856810696)"
      ]
     },
     "execution_count": 420,
     "metadata": {},
     "output_type": "execute_result"
    }
   ],
   "source": [
    "model.stat_.shadow_stat"
   ]
  },
  {
   "cell_type": "code",
   "execution_count": 421,
   "metadata": {
    "ExecuteTime": {
     "end_time": "2020-03-05T13:36:30.617771Z",
     "start_time": "2020-03-05T13:36:30.596593Z"
    },
    "hidden": true
   },
   "outputs": [
    {
     "data": {
      "text/plain": [
       "array([ True,  True,  True,  True,  True, False, False,  True,  True,\n",
       "       False])"
      ]
     },
     "execution_count": 421,
     "metadata": {},
     "output_type": "execute_result"
    }
   ],
   "source": [
    "model.rfmodel.importances()> np.max(samps)"
   ]
  },
  {
   "cell_type": "code",
   "execution_count": 422,
   "metadata": {
    "ExecuteTime": {
     "end_time": "2020-03-05T13:36:31.039391Z",
     "start_time": "2020-03-05T13:36:31.011824Z"
    },
    "hidden": true
   },
   "outputs": [
    {
     "data": {
      "text/plain": [
       "54.63547718524933"
      ]
     },
     "execution_count": 422,
     "metadata": {},
     "output_type": "execute_result"
    }
   ],
   "source": [
    "np.max(imps[5:])"
   ]
  },
  {
   "cell_type": "code",
   "execution_count": 395,
   "metadata": {
    "ExecuteTime": {
     "end_time": "2020-03-05T13:22:50.319699Z",
     "start_time": "2020-03-05T13:22:50.299196Z"
    },
    "hidden": true
   },
   "outputs": [
    {
     "data": {
      "text/plain": [
       "array([2, 2, 1, 1, 1, 0, 0, 0, 0, 0])"
      ]
     },
     "execution_count": 395,
     "metadata": {},
     "output_type": "execute_result"
    }
   ],
   "source": [
    "model.relevance_classes_"
   ]
  },
  {
   "cell_type": "markdown",
   "metadata": {},
   "source": [
    "# Graph"
   ]
  },
  {
   "cell_type": "code",
   "execution_count": 554,
   "metadata": {
    "ExecuteTime": {
     "end_time": "2020-03-05T14:50:47.496576Z",
     "start_time": "2020-03-05T14:50:47.466664Z"
    },
    "scrolled": true
   },
   "outputs": [
    {
     "data": {
      "text/plain": [
       "{0: [], 2: [], 3: [], 4: []}"
      ]
     },
     "execution_count": 554,
     "metadata": {},
     "output_type": "execute_result"
    }
   ],
   "source": [
    "model.relations_"
   ]
  },
  {
   "cell_type": "code",
   "execution_count": 555,
   "metadata": {
    "ExecuteTime": {
     "end_time": "2020-03-05T14:50:47.938312Z",
     "start_time": "2020-03-05T14:50:47.899155Z"
    }
   },
   "outputs": [],
   "source": [
    "import networkx as nx"
   ]
  },
  {
   "cell_type": "code",
   "execution_count": 556,
   "metadata": {
    "ExecuteTime": {
     "end_time": "2020-03-05T14:50:48.082447Z",
     "start_time": "2020-03-05T14:50:48.050922Z"
    }
   },
   "outputs": [],
   "source": [
    "g = nx.Graph(model.relations_)"
   ]
  },
  {
   "cell_type": "code",
   "execution_count": 557,
   "metadata": {
    "ExecuteTime": {
     "end_time": "2020-03-05T14:50:48.443125Z",
     "start_time": "2020-03-05T14:50:48.271672Z"
    }
   },
   "outputs": [
    {
     "data": {
      "image/png": "[encoded data removed]",
      "text/plain": [
       "<Figure size 432x288 with 1 Axes>"
      ]
     },
     "metadata": {},
     "output_type": "display_data"
    }
   ],
   "source": [
    "nx.draw(g,with_labels=True)"
   ]
  },
  {
   "cell_type": "code",
   "execution_count": 558,
   "metadata": {
    "ExecuteTime": {
     "end_time": "2020-03-05T14:50:50.675743Z",
     "start_time": "2020-03-05T14:50:50.634930Z"
    }
   },
   "outputs": [],
   "source": [
    "imps = model.stat_.imp_stat"
   ]
  },
  {
   "cell_type": "code",
   "execution_count": 559,
   "metadata": {
    "ExecuteTime": {
     "end_time": "2020-03-05T14:50:51.020300Z",
     "start_time": "2020-03-05T14:50:50.998026Z"
    }
   },
   "outputs": [
    {
     "data": {
      "text/plain": [
       "[(-4918.555561299697, 7143.435542139438),\n",
       " (-1795.4598823944661, 2581.0131922470464),\n",
       " (-3940.6038567346013, 11933.17506530699),\n",
       " (-59838.61829018101, 127995.99797036618),\n",
       " (-69156.19880041215, 103043.69077609022)]"
      ]
     },
     "execution_count": 559,
     "metadata": {},
     "output_type": "execute_result"
    }
   ],
   "source": [
    "imps"
   ]
  },
  {
   "cell_type": "code",
   "execution_count": 560,
   "metadata": {
    "ExecuteTime": {
     "end_time": "2020-03-05T14:50:55.621975Z",
     "start_time": "2020-03-05T14:50:55.600857Z"
    }
   },
   "outputs": [
    {
     "data": {
      "text/plain": [
       "array([[ 12061.99110344],\n",
       "       [  4376.47307464],\n",
       "       [ 15873.77892204],\n",
       "       [187834.61626055],\n",
       "       [172199.8895765 ]])"
      ]
     },
     "execution_count": 560,
     "metadata": {},
     "output_type": "execute_result"
    }
   ],
   "source": [
    "np.diff(imps,axis=1)"
   ]
  },
  {
   "cell_type": "code",
   "execution_count": null,
   "metadata": {},
   "outputs": [],
   "source": []
  }
 ],
 "metadata": {
  "kernelspec": {
   "display_name": "Python 3",
   "language": "python",
   "name": "python3"
  },
  "language_info": {
   "codemirror_mode": {
    "name": "ipython",
    "version": 3
   },
   "file_extension": ".py",
   "mimetype": "text/x-python",
   "name": "python",
   "nbconvert_exporter": "python",
   "pygments_lexer": "ipython3",
   "version": "3.7.6"
  }
 },
 "nbformat": 4,
 "nbformat_minor": 4
}
