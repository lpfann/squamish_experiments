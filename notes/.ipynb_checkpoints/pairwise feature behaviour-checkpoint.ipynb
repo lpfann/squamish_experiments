{
 "cells": [
  {
   "cell_type": "code",
   "execution_count": 1,
   "metadata": {},
   "outputs": [],
   "source": [
    "import lightgbm\n",
    "\n",
    "\n",
    "import boruta\n",
    "\n",
    "import sklearn.feature_selection as fs\n",
    "\n",
    "import numpy as np\n",
    "\n",
    "import fri\n",
    "from sklearn.preprocessing import scale\n",
    "\n",
    "%matplotlib inline\n",
    "\n",
    "import pandas as pd\n",
    "from sklearn.ensemble import RandomForestClassifier\n",
    "from boruta import BorutaPy\n",
    "\n",
    "from sklearn.model_selection import cross_val_score\n",
    "\n",
    "import sklearn.feature_selection as fs\n",
    "from sklearn.model_selection import ParameterGrid\n",
    "\n",
    "\n",
    "def get_fs(estimator, X=None, y=None):\n",
    "    fset = fs.SelectFromModel(\n",
    "        prefit=True, estimator=estimator, threshold=\"mean\"\n",
    "    ).get_support()\n",
    "    # fset = fs.RFECV(estimator=estimator,cv=3).fit(X,y).get_support()\n",
    "    return fset\n",
    "\n",
    "\n",
    "def model(random_state=None, params=None):\n",
    "    return lightgbm.LGBMClassifier(random_state=random_state, **params)\n",
    "\n",
    "\n",
    "def train_and_get_imps(X, y, random_state, params=None):\n",
    "    rf = model(random_state=random_state, params=params)\n",
    "    rf.fit(X, y)\n",
    "\n",
    "    return rf.feature_importances_"
   ]
  },
  {
   "cell_type": "code",
   "execution_count": 2,
   "metadata": {},
   "outputs": [],
   "source": [
    "from sklearn.feature_selection import mutual_info_classif as mi\n",
    "import seaborn as sns\n",
    "import matplotlib.pyplot as plt\n",
    "\n",
    "# plt.figure(figsize=(15, 10))\n",
    "# sns.swarmplot(data=frame)"
   ]
  },
  {
   "cell_type": "code",
   "execution_count": 3,
   "metadata": {},
   "outputs": [
    {
     "name": "stderr",
     "output_type": "stream",
     "text": [
      "ERROR:tornado.application:Exception in callback functools.partial(<function Kernel.enter_eventloop.<locals>.advance_eventloop at 0x7f7904299dd0>)\n",
      "Traceback (most recent call last):\n",
      "  File \"/home/lpfannschmidt/.cache/pypoetry/virtualenvs/squamish-ys7rEhGb-py3.7/lib64/python3.7/site-packages/tornado/ioloop.py\", line 743, in _run_callback\n",
      "    ret = callback()\n",
      "  File \"/home/lpfannschmidt/.cache/pypoetry/virtualenvs/squamish-ys7rEhGb-py3.7/lib64/python3.7/site-packages/ipykernel/kernelbase.py\", line 310, in advance_eventloop\n",
      "    eventloop(self)\n",
      "TypeError: 'NoneType' object is not callable\n"
     ]
    }
   ],
   "source": [
    "def plot_imp_list(imp_list, line=True, color=None):\n",
    "    fig, ax1 = plt.subplots()\n",
    "    frame = pd.DataFrame(imp_list)\n",
    "    frame.plot(kind=\"box\", ax=ax1, color=color)\n",
    "    if line:\n",
    "        for q in frame.mean(1).quantile([0.1, 0.5, 0.9]):\n",
    "            plt.axhline(q)\n",
    "\n",
    "\n",
    "def plot_class_list(imp_list):\n",
    "    fig, ax1 = plt.subplots()\n",
    "    frame = pd.DataFrame(imp_list).mean()\n",
    "    frame.plot(kind=\"bar\", ax=ax1)"
   ]
  },
  {
   "cell_type": "code",
   "execution_count": 4,
   "metadata": {},
   "outputs": [],
   "source": [
    "def get_relev_class_RFE(X, y, random_state=None, params=None):\n",
    "    rfc = fs.RFECV(model(random_state=random_state, params=params), cv=5)\n",
    "    rfc.fit(X, y)\n",
    "    return rfc.support_.astype(int)"
   ]
  },
  {
   "cell_type": "code",
   "execution_count": 8,
   "metadata": {},
   "outputs": [],
   "source": [
    "def data(informative=5, redundant=10, d=17, n=300):\n",
    "    STATE = np.random.RandomState(seed=1231241)\n",
    "\n",
    "    X, y = fri.genClassificationData(\n",
    "        n_features=d,\n",
    "        n_redundant=redundant,\n",
    "        n_strel=informative,\n",
    "        n_samples=n,\n",
    "        random_state=STATE,\n",
    "    )\n",
    "    X = scale(X)\n",
    "    return X, y\n",
    "\n",
    "\n",
    "def benchmark(best_params_rf, X, y):\n",
    "    STATE = np.random.RandomState(seed=1231241)\n",
    "\n",
    "    imp_list = [\n",
    "        train_and_get_imps(\n",
    "            X, y, random_state=STATE.randint(1000), params=best_params_rf\n",
    "        )\n",
    "        for t in range(10)\n",
    "    ]\n",
    "\n",
    "    plot_imp_list(imp_list)\n",
    "    plt.title(\"Distribution of importance values\")\n",
    "    rel_class_list = [\n",
    "        get_relev_class_RFE(\n",
    "            X, y, random_state=STATE.randint(1000), params=best_params_rf\n",
    "        )\n",
    "        for t in range(10)\n",
    "    ]\n",
    "    plot_class_list(rel_class_list)\n",
    "    plt.title(\"Frequency of inclusion in Minimal Feature Set (RFECV)\")\n",
    "\n",
    "\n",
    "def borutabench(best_params_rf, X, y):\n",
    "    bor = boruta.BorutaPy(model(params=best_params_rf))\n",
    "    bor.fit(X, y)\n",
    "    bor.support_\n",
    "\n",
    "    plot_class_list([bor.support_])\n",
    "    plt.title(\"Frequency of inclusion in AllRel Set (Boruta)\")"
   ]
  },
  {
   "cell_type": "markdown",
   "metadata": {},
   "source": [
    "# Gain Importance"
   ]
  },
  {
   "cell_type": "markdown",
   "metadata": {},
   "source": [
    "## 0.5 Feature Fraction"
   ]
  },
  {
   "cell_type": "code",
   "execution_count": 12,
   "metadata": {},
   "outputs": [
    {
     "data": {
      "image/png": "[encoded data removed]",
      "text/plain": [
       "<Figure size 432x288 with 1 Axes>"
      ]
     },
     "metadata": {
      "needs_background": "light"
     },
     "output_type": "display_data"
    },
    {
     "data": {
      "image/png": "[encoded data removed]",
      "text/plain": [
       "<Figure size 432x288 with 1 Axes>"
      ]
     },
     "metadata": {
      "needs_background": "light"
     },
     "output_type": "display_data"
    },
    {
     "data": {
      "image/png": "[encoded data removed]",
      "text/plain": [
       "<Figure size 432x288 with 1 Axes>"
      ]
     },
     "metadata": {
      "needs_background": "light"
     },
     "output_type": "display_data"
    }
   ],
   "source": [
    "best_params_rf = {\n",
    "    \"max_depth\": [5],\n",
    "    \"boosting_type\": [\"rf\"],\n",
    "    \"bagging_fraction\": [0.632],\n",
    "    \"bagging_freq\": [1],\n",
    "    \"feature_fraction\": [0.5],\n",
    "    \"importance_type\": [\"gain\"],\n",
    "}\n",
    "X, y = data(informative=2, redundant=2, d=10, n=300)\n",
    "best_params_rf = ParameterGrid(best_params_rf)[0]\n",
    "benchmark(best_params_rf, X, y)\n",
    "borutabench(best_params_rf, X, y)"
   ]
  },
  {
   "cell_type": "code",
   "execution_count": 13,
   "metadata": {},
   "outputs": [
    {
     "data": {
      "image/png": "[encoded data removed]",
      "text/plain": [
       "<Figure size 432x288 with 1 Axes>"
      ]
     },
     "metadata": {
      "needs_background": "light"
     },
     "output_type": "display_data"
    },
    {
     "data": {
      "image/png": "[encoded data removed]",
      "text/plain": [
       "<Figure size 432x288 with 1 Axes>"
      ]
     },
     "metadata": {
      "needs_background": "light"
     },
     "output_type": "display_data"
    },
    {
     "data": {
      "image/png": "[encoded data removed]",
      "text/plain": [
       "<Figure size 432x288 with 1 Axes>"
      ]
     },
     "metadata": {
      "needs_background": "light"
     },
     "output_type": "display_data"
    }
   ],
   "source": [
    "best_params_rf = {\n",
    "    \"max_depth\": [5],\n",
    "    \"boosting_type\": [\"rf\"],\n",
    "    \"bagging_fraction\": [0.632],\n",
    "    \"bagging_freq\": [1],\n",
    "    \"feature_fraction\": [0.5],\n",
    "    \"importance_type\": [\"gain\"],\n",
    "}\n",
    "X, y = data(informative=2, redundant=2, d=10, n=300)\n",
    "X[:,2] = np.random.permutation(X[:,2])\n",
    "\n",
    "best_params_rf = ParameterGrid(best_params_rf)[0]\n",
    "benchmark(best_params_rf, X, y)\n",
    "borutabench(best_params_rf, X, y)"
   ]
  },
  {
   "cell_type": "code",
   "execution_count": null,
   "metadata": {},
   "outputs": [],
   "source": []
  }
 ],
 "metadata": {
  "kernelspec": {
   "display_name": "Python 3",
   "language": "python",
   "name": "python3"
  },
  "language_info": {
   "codemirror_mode": {
    "name": "ipython",
    "version": 3
   },
   "file_extension": ".py",
   "mimetype": "text/x-python",
   "name": "python",
   "nbconvert_exporter": "python",
   "pygments_lexer": "ipython3",
   "version": "3.7.5"
  }
 },
 "nbformat": 4,
 "nbformat_minor": 4
}
