{
 "cells": [
  {
   "cell_type": "code",
   "execution_count": 1,
   "metadata": {
    "ExecuteTime": {
     "end_time": "2020-03-03T18:03:45.520818Z",
     "start_time": "2020-03-03T18:03:45.500639Z"
    }
   },
   "outputs": [],
   "source": [
    "%load_ext autoreload\n",
    "%autoreload 2"
   ]
  },
  {
   "cell_type": "code",
   "execution_count": 2,
   "metadata": {
    "ExecuteTime": {
     "end_time": "2020-03-03T18:03:45.675872Z",
     "start_time": "2020-03-03T18:03:45.662890Z"
    }
   },
   "outputs": [],
   "source": [
    "import pathlib"
   ]
  },
  {
   "cell_type": "code",
   "execution_count": 3,
   "metadata": {
    "ExecuteTime": {
     "end_time": "2020-03-03T18:03:46.594289Z",
     "start_time": "2020-03-03T18:03:46.585812Z"
    }
   },
   "outputs": [],
   "source": [
    "PATH = pathlib.Path(\"../output/\")"
   ]
  },
  {
   "cell_type": "code",
   "execution_count": 4,
   "metadata": {
    "ExecuteTime": {
     "end_time": "2020-03-03T18:03:47.585423Z",
     "start_time": "2020-03-03T18:03:46.924580Z"
    }
   },
   "outputs": [],
   "source": [
    "import lightgbm\n",
    "\n",
    "\n",
    "import boruta\n",
    "\n",
    "import sklearn.feature_selection as fs\n",
    "\n",
    "import numpy as np\n",
    "\n",
    "from sklearn.preprocessing import scale\n",
    "\n",
    "%matplotlib inline\n",
    "\n",
    "import pandas as pd\n",
    "from sklearn.ensemble import RandomForestClassifier\n",
    "from boruta import BorutaPy\n",
    "\n",
    "from sklearn.model_selection import cross_val_score\n",
    "\n",
    "import sklearn.feature_selection as fs\n",
    "from sklearn.model_selection import ParameterGrid\n",
    "\n",
    "\n",
    "def model(random_state=None, params=None):\n",
    "    return lightgbm.LGBMClassifier(random_state=random_state, **params)\n",
    "\n",
    "\n",
    "def train_and_get_imps(X, y, random_state, params=None):\n",
    "    rf = model(random_state=random_state, params=params)\n",
    "    rf.fit(X, y)\n",
    "\n",
    "    return rf.feature_importances_"
   ]
  },
  {
   "cell_type": "code",
   "execution_count": 5,
   "metadata": {
    "ExecuteTime": {
     "end_time": "2020-03-03T18:03:48.101283Z",
     "start_time": "2020-03-03T18:03:48.030339Z"
    }
   },
   "outputs": [],
   "source": [
    "from sklearn.feature_selection import mutual_info_classif as mi\n",
    "import seaborn as sns\n",
    "import matplotlib.pyplot as plt\n",
    "\n",
    "# plt.figure(figsize=(15, 10))\n",
    "# sns.swarmplot(data=frame)"
   ]
  },
  {
   "cell_type": "code",
   "execution_count": 6,
   "metadata": {
    "ExecuteTime": {
     "end_time": "2020-03-03T18:03:48.553698Z",
     "start_time": "2020-03-03T18:03:48.512199Z"
    }
   },
   "outputs": [],
   "source": [
    "def plot_imp_list(imp_list, line=True, color=None):\n",
    "    fig, ax1 = plt.subplots()\n",
    "    frame = pd.DataFrame(imp_list)\n",
    "    frame.plot(kind=\"box\", ax=ax1, color=color)\n",
    "    if line:\n",
    "        for q in frame.mean(1).quantile([0.1, 0.5, 0.9]):\n",
    "            plt.axhline(q)\n",
    "\n",
    "\n",
    "def plot_class_list(imp_list):\n",
    "    fig, ax1 = plt.subplots()\n",
    "    frame = pd.DataFrame(imp_list).mean()\n",
    "    frame.plot(kind=\"bar\", ax=ax1)"
   ]
  },
  {
   "cell_type": "code",
   "execution_count": 7,
   "metadata": {
    "ExecuteTime": {
     "end_time": "2020-03-03T18:03:49.192285Z",
     "start_time": "2020-03-03T18:03:49.152626Z"
    }
   },
   "outputs": [],
   "source": [
    "from arfs_gen import genClassificationData\n",
    "\n",
    "def data(informative=5, redundant=10, d=17, n=300):\n",
    "    STATE = np.random.RandomState(seed=1231241)\n",
    "\n",
    "    X, y = genClassificationData(\n",
    "        n_features=d,\n",
    "        n_redundant=redundant,\n",
    "        n_strel=informative,\n",
    "        n_samples=n,\n",
    "        random_state=STATE,\n",
    "    )\n",
    "    X = scale(X)\n",
    "    return X, y\n",
    "\n",
    "\n"
   ]
  },
  {
   "cell_type": "code",
   "execution_count": 21,
   "metadata": {
    "ExecuteTime": {
     "end_time": "2020-03-03T18:05:10.583326Z",
     "start_time": "2020-03-03T18:05:08.479522Z"
    }
   },
   "outputs": [
    {
     "name": "stdout",
     "output_type": "stream",
     "text": [
      "Finished loading model, total used 100 iterations\n",
      "(-80.60231222882766, 146.13955025866525)\n"
     ]
    }
   ],
   "source": [
    "import sys\n",
    "sys.path.append(\"../runner/\")\n",
    "\n",
    "import squamish\n",
    "\n",
    "STATE = np.random.RandomState(seed=1231241)\n",
    "model = squamish.Main(random_state=STATE,n_resampling=50,fpr=1e-4)\n",
    "\n",
    "X, y = data()\n",
    "\n",
    "model.fit(X,y)\n",
    "\n",
    "\n",
    "\n",
    "shadw_bounds = model.stat_.shadow_stat\n",
    "print(shadw_bounds)"
   ]
  },
  {
   "cell_type": "code",
   "execution_count": 22,
   "metadata": {
    "ExecuteTime": {
     "end_time": "2020-03-03T18:06:08.048431Z",
     "start_time": "2020-03-03T18:06:08.017801Z"
    }
   },
   "outputs": [],
   "source": [
    "imps = model.rfmodel.importances() "
   ]
  },
  {
   "cell_type": "code",
   "execution_count": 23,
   "metadata": {
    "ExecuteTime": {
     "end_time": "2020-03-03T18:06:13.817617Z",
     "start_time": "2020-03-03T18:06:13.788842Z"
    }
   },
   "outputs": [],
   "source": [
    "relevant = imps > shadw_bounds[1]"
   ]
  },
  {
   "cell_type": "code",
   "execution_count": 42,
   "metadata": {
    "ExecuteTime": {
     "end_time": "2020-03-03T18:12:57.265518Z",
     "start_time": "2020-03-03T18:12:57.242215Z"
    }
   },
   "outputs": [],
   "source": [
    "palette = sns.color_palette(n_colors=2)"
   ]
  },
  {
   "cell_type": "code",
   "execution_count": 51,
   "metadata": {
    "ExecuteTime": {
     "end_time": "2020-03-03T18:27:29.146716Z",
     "start_time": "2020-03-03T18:27:28.844235Z"
    }
   },
   "outputs": [
    {
     "data": {
      "text/plain": [
       "Text(0.5, 1.0, 'Feature selection with statistical based threshold')"
      ]
     },
     "execution_count": 51,
     "metadata": {},
     "output_type": "execute_result"
    },
    {
     "data": {
      "image/png": "[encoded data removed]",
      "text/plain": [
       "<Figure size 432x288 with 1 Axes>"
      ]
     },
     "metadata": {
      "needs_background": "light"
     },
     "output_type": "display_data"
    }
   ],
   "source": [
    "sns.barplot(x=np.arange(len(imps)),y=imps, hue=relevant)\n",
    "\n",
    "\n",
    "\n",
    "plt.axhline(shadw_bounds[1])\n",
    "plt.title(\"Feature selection with statistical based threshold\")\n",
    "#plt.savefig(PATH/(prefix+\"freqimpsMR.pdf\"))"
   ]
  },
  {
   "cell_type": "code",
   "execution_count": null,
   "metadata": {},
   "outputs": [],
   "source": []
  }
 ],
 "metadata": {
  "kernelspec": {
   "display_name": "Python 3",
   "language": "python",
   "name": "python3"
  },
  "language_info": {
   "codemirror_mode": {
    "name": "ipython",
    "version": 3
   },
   "file_extension": ".py",
   "mimetype": "text/x-python",
   "name": "python",
   "nbconvert_exporter": "python",
   "pygments_lexer": "ipython3",
   "version": "3.7.6"
  }
 },
 "nbformat": 4,
 "nbformat_minor": 4
}
