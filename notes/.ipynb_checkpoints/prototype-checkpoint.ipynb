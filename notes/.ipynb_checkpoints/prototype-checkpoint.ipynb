{
 "cells": [
  {
   "cell_type": "code",
   "execution_count": 5,
   "metadata": {},
   "outputs": [],
   "source": [
    "import lightgbm\n",
    "\n",
    "\n",
    "import boruta\n",
    "\n",
    "import sklearn.feature_selection as fs\n",
    "\n",
    "import numpy as np\n",
    "\n",
    "import fri\n",
    "from sklearn.preprocessing import scale\n"
   ]
  },
  {
   "cell_type": "code",
   "execution_count": 6,
   "metadata": {},
   "outputs": [],
   "source": [
    "import pandas as pd\n",
    "from sklearn.ensemble import RandomForestClassifier\n",
    "from boruta import BorutaPy"
   ]
  },
  {
   "cell_type": "code",
   "execution_count": 7,
   "metadata": {},
   "outputs": [],
   "source": [
    "informative = 10\n",
    "redundant = 20\n",
    "d = 50\n",
    "# load X and y\n",
    "X,y = fri.genClassificationData(n_features=d,n_redundant=redundant\n",
    "                                ,n_strel=informative, n_samples=400,partition=)\n",
    "X = scale(X)"
   ]
  },
  {
   "cell_type": "code",
   "execution_count": 8,
   "metadata": {},
   "outputs": [],
   "source": [
    "\n",
    "def get_truth_AR(d, informative, redundant):\n",
    "    truth = [2]*(informative)+ [1]*(redundant)  + [0]*(d - (informative + redundant))\n",
    "    return truth\n",
    "def get_truth(d, informative, redundant):\n",
    "    truth = [True]*(informative + redundant) + [False]*(d - (informative + redundant))\n",
    "    return truth\n",
    "truth = get_truth(d,informative,redundant)\n",
    "truth_AR = get_truth_AR(d,informative,redundant)\n",
    "\n",
    "from sklearn.metrics import precision_score, recall_score, f1_score\n",
    "\n",
    "def get_scores(support, truth):\n",
    "    return [(sc.__name__, sc(truth,support)) for sc in [precision_score,recall_score,f1_score]]\n",
    "\n",
    "\n",
    "import sklearn.feature_selection as fs\n",
    "def get_fs(estimator):\n",
    "    fset = fs.SelectFromModel(prefit=True,estimator=estimator).get_support()\n",
    "    return fset\n",
    "\n",
    "def RF(X,y,params=None):\n",
    "    if params is None:\n",
    "        lm = lightgbm.LGBMClassifier(max_depth=6,boosting_type=\"rf\", bagging_fraction=0.632,bagging_freq=1)\n",
    "    else:\n",
    "        lm = lightgbm.LGBMClassifier(**params)\n",
    "    lm.fit(X,y)\n",
    "    return lm\n",
    "\n",
    "\n",
    "def get_MR(X,y,params=None):\n",
    "    lm = RF(X,y,params)\n",
    "    # todo: welcher score?\n",
    "    score = lm.score(X,y)\n",
    "    fset = get_fs(lm)\n",
    "    fset = np.where(fset)\n",
    "    return fset[0], score\n",
    "\n",
    "def get_AR(X,y):\n",
    "    # define random forest classifier, with utilising all cores and\n",
    "    # sampling in proportion to y labels\n",
    "    lm = lightgbm.LGBMClassifier(max_depth=10,boosting_type=\"rf\", bagging_fraction=0.632,bagging_freq=1,feature_fraction=0.4)\n",
    "    #lm = lightgbm.LGBMClassifier(max_depth=5,boosting_type=\"gbdt\", bagging_fraction=0.632,bagging_freq=1,feature_fraction=0.5)\n",
    "\n",
    "    # define Boruta feature selection method\n",
    "    feat_selector = BorutaPy(lm, verbose=0, random_state=1,n_estimators=200,perc=95,max_iter=100)\n",
    "    print(feat_selector)\n",
    "    # find all relevant features - 5 features should be selected\n",
    "    feat_selector.fit(X, y)\n",
    "    \n",
    "    fset = feat_selector.support_\n",
    "    \n",
    "    return fset\n",
    "\n",
    "def get_AR_params(X,y,params):\n",
    "    tree_params={k:v for k,v in params.items() if not k.startswith(\"b_\")}\n",
    "    boruta_params={k[2:]:v for k,v in params.items() if k.startswith(\"b_\")}\n",
    "    \n",
    "    lm = lightgbm.LGBMClassifier(**tree_params)\n",
    "    feat_selector = BorutaPy(lm, verbose=0, random_state=1, **boruta_params)\n",
    "    feat_selector.fit(X, y)\n",
    "    \n",
    "    fset = feat_selector.support_\n",
    "    \n",
    "    return fset"
   ]
  },
  {
   "cell_type": "code",
   "execution_count": 9,
   "metadata": {},
   "outputs": [],
   "source": [
    "from sklearn.model_selection import ParameterGrid\n",
    "\n",
    "best_params = {\n",
    "    \"max_depth\": [5],\n",
    "    \"boosting_type\": [\"rf\"],\n",
    "    \"bagging_fraction\": [0.632],\n",
    "    \"bagging_freq\": [1],\n",
    "    \"feature_fraction\": [0.1],\n",
    "    \"b_perc\" : [50],\n",
    "    \"b_n_estimators\":[\"auto\"],\n",
    "    \"b_alpha\":[0.01],\n",
    "    \"b_max_iter\":[100],\n",
    "    \"importance_type\":[\"gain\"]\n",
    "    }\n",
    "best_params = ParameterGrid(best_params)[0]"
   ]
  },
  {
   "cell_type": "markdown",
   "metadata": {},
   "source": [
    "# Iterative check"
   ]
  },
  {
   "cell_type": "code",
   "execution_count": 10,
   "metadata": {},
   "outputs": [],
   "source": [
    "from sklearn.model_selection import cross_val_score"
   ]
  },
  {
   "cell_type": "code",
   "execution_count": 11,
   "metadata": {},
   "outputs": [],
   "source": [
    "def create_support_AR(d,S,W):\n",
    "    sup = np.zeros(d)\n",
    "    sup[S] = 2\n",
    "    sup[W] = 1\n",
    "    return sup.astype(int)\n",
    "\n",
    "\n",
    "def sort_features(X,y, MR, AR,params=None):\n",
    "    S = []\n",
    "    W = list(np.setdiff1d(AR,MR))\n",
    "    \n",
    "    rf = RF(X,y)\n",
    "    opt_score = np.mean(cross_val_score(rf,X,y,cv=5))\n",
    "    \n",
    "    print(f\"optimal score is {opt_score}\")\n",
    "    for f in MR:\n",
    "        C = np.setdiff1d(MR,f)\n",
    "        X_c = X[:,C]\n",
    "        \n",
    "        rf_c = RF(X_c,y)\n",
    "        score_c = np.mean(cross_val_score(rf_c,X_c,y,cv=5))\n",
    "        \n",
    "        print(f\"score without {f} is {score_c}-> \",end=\"\")\n",
    "        if score_c < opt_score:\n",
    "            print(f\"S\")\n",
    "            S.append(f)\n",
    "        else:\n",
    "            print(f\"W\")\n",
    "            W.append(f)\n",
    "    return create_support_AR(X.shape[1],S,W)\n",
    "\n",
    "def get_ar_classes(X,y,params):\n",
    "    \n",
    "    tree_params={k:v for k,v in params.items() if not k.startswith(\"b_\")}\n",
    "    \n",
    "    AR = np.where(get_AR_params(X,y,best_params))[0]\n",
    "    MR, _ = get_MR(X,y)\n",
    "    print(\"Features from Boruta:\\n\", AR)\n",
    "    print(f\"Features from RF:\\n{MR}\")\n",
    "    return sort_features(X,y,MR,AR,params)"
   ]
  },
  {
   "cell_type": "code",
   "execution_count": 12,
   "metadata": {},
   "outputs": [
    {
     "name": "stdout",
     "output_type": "stream",
     "text": [
      "Features from Boruta:\n",
      " [ 0  1  2  3  4  5  6  7  8  9 10 11 12 13 14 15 16 17 18 19 20 21 22 23\n",
      " 24 25 26 27 28 29 30 35 36 37 38 47 49]\n",
      "Features from RF:\n",
      "[ 0  1  2  3  4  5  6  7  8  9 10]\n",
      "optimal score is 0.7519022503516174\n",
      "score without 0 is 0.7247456633849039-> S\n",
      "score without 1 is 0.7597179246757306-> W\n",
      "score without 2 is 0.7496245507110486-> S\n",
      "score without 3 is 0.7097741834661666-> S\n",
      "score without 4 is 0.7422147991873731-> S\n",
      "score without 5 is 0.7445905610251602-> S\n",
      "score without 6 is 0.7471538521644006-> S\n",
      "score without 7 is 0.7122757462103454-> S\n",
      "score without 8 is 0.7495604781997187-> S\n",
      "score without 9 is 0.7396538521644007-> S\n",
      "score without 10 is 0.7656895608688858-> W\n"
     ]
    }
   ],
   "source": [
    "predict_AR = get_ar_classes(X,y,best_params)"
   ]
  },
  {
   "cell_type": "code",
   "execution_count": 453,
   "metadata": {},
   "outputs": [
    {
     "name": "stdout",
     "output_type": "stream",
     "text": [
      "[2 2 2 2 2 2 2 2 2 1 1 1 1 1 1 1 1 1 1 1 1 1 1 1 1 1 1 1 1 1 0 1 0 0 0 0 0\n",
      " 0 1 1 1 0 1 1 0 1 0 0 0 1]\n"
     ]
    }
   ],
   "source": [
    "print(predict_AR)"
   ]
  },
  {
   "cell_type": "code",
   "execution_count": 447,
   "metadata": {},
   "outputs": [
    {
     "name": "stdout",
     "output_type": "stream",
     "text": [
      "[2, 2, 2, 2, 2, 2, 2, 2, 2, 2, 1, 1, 1, 1, 1, 1, 1, 1, 1, 1, 1, 1, 1, 1, 1, 1, 1, 1, 1, 1, 0, 0, 0, 0, 0, 0, 0, 0, 0, 0, 0, 0, 0, 0, 0, 0, 0, 0, 0, 0]\n"
     ]
    }
   ],
   "source": [
    "print(truth_AR)"
   ]
  },
  {
   "cell_type": "code",
   "execution_count": 450,
   "metadata": {},
   "outputs": [],
   "source": [
    "from scipy.spatial.distance import jaccard"
   ]
  },
  {
   "cell_type": "code",
   "execution_count": 455,
   "metadata": {},
   "outputs": [
    {
     "data": {
      "text/plain": [
       "0.23684210526315788"
      ]
     },
     "execution_count": 455,
     "metadata": {},
     "output_type": "execute_result"
    }
   ],
   "source": [
    "jaccard(predict_AR,truth_AR)"
   ]
  },
  {
   "cell_type": "code",
   "execution_count": 458,
   "metadata": {},
   "outputs": [],
   "source": [
    "import seaborn as sns"
   ]
  },
  {
   "cell_type": "code",
   "execution_count": 462,
   "metadata": {},
   "outputs": [
    {
     "data": {
      "text/plain": [
       "<matplotlib.axes._subplots.AxesSubplot at 0x7f3754d0c350>"
      ]
     },
     "execution_count": 462,
     "metadata": {},
     "output_type": "execute_result"
    },
    {
     "data": {
      "image/png": "[encoded data removed]",
      "text/plain": [
       "<Figure size 432x288 with 2 Axes>"
      ]
     },
     "metadata": {
      "needs_background": "light"
     },
     "output_type": "display_data"
    }
   ],
   "source": [
    "sns.heatmap(np.array([predict_AR,truth_AR]),yticklabels=[\"predict\",\"true\"])"
   ]
  },
  {
   "cell_type": "code",
   "execution_count": null,
   "metadata": {},
   "outputs": [],
   "source": []
  }
 ],
 "metadata": {
  "kernelspec": {
   "display_name": "Python 3",
   "language": "python",
   "name": "python3"
  },
  "language_info": {
   "codemirror_mode": {
    "name": "ipython",
    "version": 3
   },
   "file_extension": ".py",
   "mimetype": "text/x-python",
   "name": "python",
   "nbconvert_exporter": "python",
   "pygments_lexer": "ipython3",
   "version": "3.7.5"
  }
 },
 "nbformat": 4,
 "nbformat_minor": 4
}
