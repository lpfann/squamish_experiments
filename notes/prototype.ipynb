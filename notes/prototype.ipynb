{
 "cells": [
  {
   "cell_type": "code",
   "execution_count": 3,
   "metadata": {},
   "outputs": [],
   "source": [
    "import lightgbm\n",
    "\n",
    "\n",
    "import boruta\n",
    "\n",
    "import sklearn.feature_selection as fs\n",
    "\n",
    "import numpy as np\n",
    "\n",
    "import fri\n",
    "from sklearn.preprocessing import scale"
   ]
  },
  {
   "cell_type": "code",
   "execution_count": 4,
   "metadata": {},
   "outputs": [],
   "source": [
    "import pandas as pd\n",
    "from sklearn.ensemble import RandomForestClassifier\n",
    "from boruta import BorutaPy"
   ]
  },
  {
   "cell_type": "code",
   "execution_count": 333,
   "metadata": {},
   "outputs": [],
   "source": [
    "def get_truth_AR(d, informative, redundant):\n",
    "    truth = (\n",
    "        [2] * (informative) + [1] * (redundant) + [0] * (d - (informative + redundant))\n",
    "    )\n",
    "    return truth\n",
    "\n",
    "\n",
    "def get_truth(d, informative, redundant):\n",
    "    truth = [True] * (informative + redundant) + [False] * (\n",
    "        d - (informative + redundant)\n",
    "    )\n",
    "    return truth\n",
    "\n",
    "\n",
    "from sklearn.metrics import precision_score, recall_score, f1_score\n",
    "\n",
    "\n",
    "def get_scores(support, truth):\n",
    "    return [\n",
    "        (sc.__name__, sc(truth, support))\n",
    "        for sc in [precision_score, recall_score, f1_score]\n",
    "    ]\n",
    "\n",
    "\n",
    "import sklearn.feature_selection as fs\n",
    "\n",
    "\n",
    "def get_fs(estimator,X=None,y=None):\n",
    "    fset = fs.SelectFromModel(prefit=True, estimator=estimator,threshold=\"mean\").get_support()\n",
    "    #fset = fs.RFECV(estimator=estimator,cv=3).fit(X,y).get_support()\n",
    "    return fset\n",
    "\n",
    "\n",
    "def RF(X, y, params=None):\n",
    "    if params is None:\n",
    "        lm = lightgbm.LGBMClassifier(\n",
    "            max_depth=3, boosting_type=\"rf\", bagging_fraction=0.632, bagging_freq=1,\n",
    "            \n",
    "        )\n",
    "    else:\n",
    "        lm = lightgbm.LGBMClassifier(**params)\n",
    "    lm.fit(X, y)\n",
    "    return lm\n",
    "\n",
    "\n",
    "def get_MR(X, y, params=None):\n",
    "    lm = RF(X, y, params)\n",
    "    # todo: welcher score?\n",
    "    score = lm.score(X, y)\n",
    "    fset = get_fs(lm,X,y)\n",
    "    fset = np.where(fset)\n",
    "    return fset[0], score\n",
    "\n",
    "def get_AR_params(X, y, params):\n",
    "    tree_params = {k: v for k, v in params.items() if not k.startswith(\"b_\")}\n",
    "    boruta_params = {k[2:]: v for k, v in params.items() if k.startswith(\"b_\")}\n",
    "\n",
    "    lm = lightgbm.LGBMClassifier(**tree_params)\n",
    "    feat_selector = BorutaPy(lm, verbose=0, random_state=1, **boruta_params)\n",
    "    feat_selector.fit(X, y)\n",
    "\n",
    "    fset = feat_selector.support_\n",
    "\n",
    "    return fset"
   ]
  },
  {
   "cell_type": "code",
   "execution_count": 341,
   "metadata": {},
   "outputs": [],
   "source": [
    "from sklearn.model_selection import ParameterGrid\n",
    "\n",
    "best_params_rf = {\n",
    "    \"max_depth\": [5],\n",
    "    \"boosting_type\": [\"rf\"],\n",
    "    \"bagging_fraction\": [0.632],\n",
    "    \"bagging_freq\": [1],\n",
    "    \"feature_fraction\": [0.1],\n",
    "    \"b_perc\" : [100],\n",
    "    \"b_n_estimators\":[\"auto\"],\n",
    "    \"b_alpha\":[0.01],\n",
    "    \"b_max_iter\":[50],\n",
    "    \"importance_type\":[\"gain\"],\n",
    "    }\n",
    "best_params_rf = ParameterGrid(best_params_rf)[0]"
   ]
  },
  {
   "cell_type": "code",
   "execution_count": 342,
   "metadata": {},
   "outputs": [],
   "source": [
    "\n",
    "best_params_boost = {\n",
    "    \"boosting_type\": [\"gbdt\"],\n",
    "    }\n",
    "best_params_boost = ParameterGrid(best_params_boost)[0]"
   ]
  },
  {
   "cell_type": "markdown",
   "metadata": {},
   "source": [
    "# Iterative check"
   ]
  },
  {
   "cell_type": "code",
   "execution_count": 343,
   "metadata": {},
   "outputs": [],
   "source": [
    "from sklearn.model_selection import cross_val_score"
   ]
  },
  {
   "cell_type": "code",
   "execution_count": 344,
   "metadata": {},
   "outputs": [],
   "source": [
    "def create_support_AR(d,S,W):\n",
    "    sup = np.zeros(d)\n",
    "    sup[S] = 2\n",
    "    sup[W] = 1\n",
    "    return sup.astype(int)\n",
    "\n",
    "def cv_score(X,y,model,cv=20):\n",
    "    return np.mean(cross_val_score(model,X,y,cv=cv))\n",
    "\n",
    "def train_and_score(X,y,params=None):\n",
    "    rf = RF(X,y,params)\n",
    "    return cv_score(X,y,rf)\n",
    "\n",
    "def score_with_feature_set(X,y,featureset:list,params=None):\n",
    "    return train_and_score(X[:,featureset],y,params)\n",
    "\n",
    "\n",
    "def sort_features(X,y, MR, AR,params_rf=None,params_boost=None):\n",
    "    S = []\n",
    "    W = list(np.setdiff1d(AR,MR))\n",
    "    print(f\"predetermined weakly {W}\")\n",
    "          \n",
    "    score_on_MR = score_with_feature_set(X,y,MR,params_boost)\n",
    "    score_on_AR = score_with_feature_set(X,y,AR,params_boost)\n",
    "    MR_and_W =  np.union1d(MR,W)\n",
    "    score_on_MR_and_W = score_with_feature_set(X,y,MR_and_W,params_boost)\n",
    "    scores = {\"MR\":score_on_MR,\"AR\":score_on_AR,\"MR+W\":score_on_MR_and_W}\n",
    "    for k,sc in scores.items():\n",
    "        print(f\"{k} has score {sc}\")\n",
    "\n",
    "    for f in MR:\n",
    "        \n",
    "        C = np.setdiff1d(MR,f) # Remove f from minimal set\n",
    "        C = np.union1d(C,W) # Combine with weakly relevant features\n",
    "        \n",
    "        score_c = score_with_feature_set(X,y,C,params_boost)\n",
    "        print(f\"score without {f} is {score_c:.3}-> \",end=\"\")\n",
    "\n",
    "        if score_c < score_on_MR_and_W:\n",
    "            print(f\"S\")\n",
    "            S.append(f)\n",
    "        else:\n",
    "            print(f\"W\")\n",
    "            W.append(f)\n",
    "    return create_support_AR(X.shape[1],S,W)\n",
    "\n",
    "def get_ar_classes(X,y,params_rf,params_boost):\n",
    "    \n",
    "    AR = np.where(get_AR_params(X,y,params_rf))[0]\n",
    "    MR, score = get_MR(X,y,params_boost)\n",
    "\n",
    "    print(f\"Features from Boruta:\\n {AR}\")\n",
    "    print(f\"Features from Lightbgm:\\n {MR}\")\n",
    "    \n",
    "    return sort_features(X,y,MR,AR,params_rf,params_boost)"
   ]
  },
  {
   "cell_type": "code",
   "execution_count": 345,
   "metadata": {},
   "outputs": [],
   "source": [
    "informative = 10\n",
    "redundant = 4\n",
    "d = 50\n",
    "\n",
    "X,y = fri.genClassificationData(n_features=d,n_redundant=redundant\n",
    "                                ,n_strel=informative, n_samples=400,random_state=123)\n",
    "X = scale(X)\n",
    "\n",
    "truth = get_truth(d, informative, redundant)\n",
    "truth_AR = get_truth_AR(d, informative, redundant)"
   ]
  },
  {
   "cell_type": "code",
   "execution_count": 346,
   "metadata": {},
   "outputs": [
    {
     "name": "stdout",
     "output_type": "stream",
     "text": [
      "Features from Boruta:\n",
      " [ 0  1  2  3  4  5  7  8  9 10 11 12]\n",
      "Features from Lightbgm:\n",
      " [ 0  1  2  3  4  5  6  7  8  9 12 20 25]\n",
      "predetermined weakly [10, 11]\n",
      "MR has score 0.8606015037593986\n",
      "AR has score 0.8583646616541353\n",
      "MR+W has score 0.8658395989974939\n",
      "score without 0 is 0.823-> S\n",
      "score without 1 is 0.832-> S\n",
      "score without 2 is 0.836-> S\n",
      "score without 3 is 0.812-> S\n",
      "score without 4 is 0.817-> S\n",
      "score without 5 is 0.816-> S\n",
      "score without 6 is 0.856-> S\n",
      "score without 7 is 0.836-> S\n",
      "score without 8 is 0.816-> S\n",
      "score without 9 is 0.813-> S\n",
      "score without 12 is 0.858-> S\n",
      "score without 20 is 0.858-> S\n",
      "score without 25 is 0.851-> S\n"
     ]
    }
   ],
   "source": [
    "predict_AR = get_ar_classes(X,y,best_params_rf,best_params_boost)"
   ]
  },
  {
   "cell_type": "code",
   "execution_count": 347,
   "metadata": {},
   "outputs": [
    {
     "name": "stdout",
     "output_type": "stream",
     "text": [
      "0.25\n"
     ]
    },
    {
     "data": {
      "text/plain": [
       "<matplotlib.axes._subplots.AxesSubplot at 0x7f649c98f5d0>"
      ]
     },
     "execution_count": 347,
     "metadata": {},
     "output_type": "execute_result"
    },
    {
     "data": {
      "image/png": "[encoded data removed]",
      "text/plain": [
       "<Figure size 432x288 with 2 Axes>"
      ]
     },
     "metadata": {
      "needs_background": "light"
     },
     "output_type": "display_data"
    }
   ],
   "source": [
    "from scipy.spatial.distance import jaccard\n",
    "\n",
    "jac = jaccard(predict_AR,truth_AR)\n",
    "print(jac)\n",
    "\n",
    "import seaborn as sns\n",
    "%matplotlib inline\n",
    "sns.heatmap(np.array([predict_AR,truth_AR]),yticklabels=[\"predict\",\"true\"])"
   ]
  }
 ],
 "metadata": {
  "kernelspec": {
   "display_name": "Python 3",
   "language": "python",
   "name": "python3"
  },
  "language_info": {
   "codemirror_mode": {
    "name": "ipython",
    "version": 3
   },
   "file_extension": ".py",
   "mimetype": "text/x-python",
   "name": "python",
   "nbconvert_exporter": "python",
   "pygments_lexer": "ipython3",
   "version": "3.7.6"
  }
 },
 "nbformat": 4,
 "nbformat_minor": 4
}
