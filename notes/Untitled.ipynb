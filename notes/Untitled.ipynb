{
 "cells": [
  {
   "cell_type": "code",
   "execution_count": null,
   "metadata": {},
   "outputs": [],
   "source": [
    "import numpy as np\n",
    "\n",
    "import matplotlib.pyplot as plt\n",
    "%matplotlib inline\n",
    "\n",
    "import sklearn as sk\n",
    "\n",
    "import sklearn.datasets as data\n",
    "\n",
    "state = np.random.RandomState(123)\n",
    "\n",
    "\n",
    "\n",
    "X,y = data.make_classification(n_samples=500, n_features=7, n_informative=5,\n",
    "                         n_redundant=0, n_repeated=0, n_classes=2,\n",
    "                         n_clusters_per_class=2, weights=None,\n",
    "                         flip_y=0.0, class_sep=0.5, hypercube=True,\n",
    "                         shift=0.0, scale=1.0, shuffle=False,\n",
    "                         random_state=state)\n",
    "\n",
    "#plt.scatter(*X[:,:2].T,c=y)\n",
    "\n",
    "import squamish.main\n",
    "sq = squamish.main.Main()\n",
    "\n",
    "import fri\n",
    "f = fri.FRI(fri.ProblemName.CLASSIFICATION,n_probe_features=50,verbose=True)\n",
    "\n",
    "default_params = {n_samples=500, n_features=7, n_informative=5,\n",
    "                         n_redundant=0, n_repeated=0, n_classes=2,\n",
    "                         n_clusters_per_class=2, weights=None,\n",
    "                         flip_y=0.0, class_sep=0.5, hypercube=True,\n",
    "                         shift=0.0, scale=1.0, shuffle=False,\n",
    "                         random_state=state}\n",
    "\n",
    "datasets  = []\n",
    "models = []\n",
    "results  = []\n",
    "\n",
    "\n",
    "# score funcs\n",
    "# precision funcs\n",
    "\n",
    "\n",
    "\n"
   ]
  }
 ],
 "metadata": {
  "kernelspec": {
   "display_name": "Python 3",
   "language": "python",
   "name": "python3"
  },
  "language_info": {
   "codemirror_mode": {
    "name": "ipython",
    "version": 3
   },
   "file_extension": ".py",
   "mimetype": "text/x-python",
   "name": "python",
   "nbconvert_exporter": "python",
   "pygments_lexer": "ipython3",
   "version": "3.7.6"
  }
 },
 "nbformat": 4,
 "nbformat_minor": 4
}
